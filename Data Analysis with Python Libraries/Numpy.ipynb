{
 "cells": [
  {
   "cell_type": "markdown",
   "id": "a43f650a-e5c1-4ea4-8c31-ffcb2bec6796",
   "metadata": {},
   "source": [
    "# Numpy"
   ]
  },
  {
   "cell_type": "code",
   "execution_count": 2,
   "id": "53855b67-adaf-428a-9fac-65caf0dfe933",
   "metadata": {},
   "outputs": [],
   "source": [
    "import numpy as np"
   ]
  },
  {
   "cell_type": "code",
   "execution_count": 3,
   "id": "65268d9a-1e0a-4608-85f7-eb3bed805eea",
   "metadata": {},
   "outputs": [
    {
     "name": "stdout",
     "output_type": "stream",
     "text": [
      "[1 2 3 4 5]\n",
      "<class 'numpy.ndarray'>\n"
     ]
    }
   ],
   "source": [
    "arr = np.array([1,2,3,4,5])\n",
    "print(arr)\n",
    "print(type(arr))"
   ]
  },
  {
   "cell_type": "code",
   "execution_count": 4,
   "id": "b898c283-d5b4-4db4-a129-296d3fdb67be",
   "metadata": {},
   "outputs": [
    {
     "name": "stdout",
     "output_type": "stream",
     "text": [
      "[1 2 3 4 5]\n",
      "<class 'numpy.ndarray'>\n"
     ]
    }
   ],
   "source": [
    "arr = np.array((1,2,3,4,5))\n",
    "print(arr)\n",
    "print(type(arr))"
   ]
  },
  {
   "cell_type": "markdown",
   "id": "6515a5d4-6c2a-458e-abeb-8273f3721299",
   "metadata": {},
   "source": [
    "### Dimensions in array"
   ]
  },
  {
   "cell_type": "code",
   "execution_count": 5,
   "id": "548c9dba-91dd-40d6-8483-e4be45e4471b",
   "metadata": {},
   "outputs": [
    {
     "name": "stdout",
     "output_type": "stream",
     "text": [
      "20\n",
      "<class 'numpy.ndarray'>\n",
      "0\n"
     ]
    }
   ],
   "source": [
    "arr = np.array(20)\n",
    "print(arr)\n",
    "print(type(arr))\n",
    "print(arr.ndim)"
   ]
  },
  {
   "cell_type": "markdown",
   "id": "72b24c7a-a846-4eba-b3b1-3f5cf4570e9d",
   "metadata": {},
   "source": [
    "### 1-D array"
   ]
  },
  {
   "cell_type": "code",
   "execution_count": 6,
   "id": "835effcf-d3ce-4d6b-ac98-f306d354aec2",
   "metadata": {},
   "outputs": [
    {
     "name": "stdout",
     "output_type": "stream",
     "text": [
      "[1 2 3 4 5 6]\n",
      "1\n"
     ]
    }
   ],
   "source": [
    "arr = np.array([1,2,3,4,5,6])\n",
    "print(arr)\n",
    "print(arr.ndim)"
   ]
  },
  {
   "cell_type": "markdown",
   "id": "addc9de2-f169-49eb-9de2-44e70076c2ae",
   "metadata": {},
   "source": [
    "### 2-D array"
   ]
  },
  {
   "cell_type": "code",
   "execution_count": 7,
   "id": "2f576595-0ed9-436e-946d-28e3844a1243",
   "metadata": {},
   "outputs": [
    {
     "name": "stdout",
     "output_type": "stream",
     "text": [
      "[[1 2 3]\n",
      " [4 5 6]]\n",
      "2\n"
     ]
    }
   ],
   "source": [
    "arr = np.array([[1,2,3],[4,5,6]])\n",
    "print(arr)\n",
    "print(arr.ndim)"
   ]
  },
  {
   "cell_type": "code",
   "execution_count": 8,
   "id": "3775dd74-c922-48a6-b8f4-5fb103058430",
   "metadata": {},
   "outputs": [
    {
     "name": "stdout",
     "output_type": "stream",
     "text": [
      "[[1.1 2.2 3.2]\n",
      " [4.4 5.  6. ]]\n",
      "2\n"
     ]
    }
   ],
   "source": [
    "arr = np.array([[1.1,2.2,3.2],[4.4,5,6]])\n",
    "print(arr)\n",
    "print(arr.ndim)"
   ]
  },
  {
   "cell_type": "markdown",
   "id": "45cd8ca1-3519-404b-8894-6b0faa35ddb3",
   "metadata": {},
   "source": [
    "### 3-D array\n",
    "An array that has 2-D arrays (matrices) as its elements is called 3-D array."
   ]
  },
  {
   "cell_type": "code",
   "execution_count": 9,
   "id": "9d6f0f21-e269-45b5-8e1c-e0002d262fb3",
   "metadata": {},
   "outputs": [
    {
     "name": "stdout",
     "output_type": "stream",
     "text": [
      "[[[1 2 3]\n",
      "  [4 5 6]]\n",
      "\n",
      " [[1 2 3]\n",
      "  [4 5 6]]]\n"
     ]
    }
   ],
   "source": [
    "import numpy as np\n",
    "\n",
    "arr = np.array([[[1, 2, 3], [4, 5, 6]], [[1, 2, 3], [4, 5, 6]]])\n",
    "\n",
    "print(arr)"
   ]
  },
  {
   "cell_type": "code",
   "execution_count": 10,
   "id": "1d171a0d-d3d4-4e53-a0f7-17ad7cba22b3",
   "metadata": {},
   "outputs": [
    {
     "name": "stdout",
     "output_type": "stream",
     "text": [
      "[[[1 2 3]\n",
      "  [4 5 6]]\n",
      "\n",
      " [[1 2 3]\n",
      "  [4 5 6]]]\n",
      "<class 'numpy.ndarray'>\n",
      "3\n"
     ]
    }
   ],
   "source": [
    "import numpy as np\n",
    "\n",
    "arr = np.array([[[1, 2, 3], [4, 5, 6]], [[1, 2, 3], [4, 5, 6]]])\n",
    "\n",
    "print(arr)\n",
    "print(type(arr))\n",
    "print(arr.ndim)"
   ]
  },
  {
   "cell_type": "code",
   "execution_count": 11,
   "id": "9040d59a-dad1-4c27-ba48-f445fe86eb7f",
   "metadata": {},
   "outputs": [
    {
     "name": "stdout",
     "output_type": "stream",
     "text": [
      "0\n",
      "1\n",
      "2\n",
      "3\n"
     ]
    }
   ],
   "source": [
    "a = np.array(42)\n",
    "b = np.array([1,2,3,4,5])\n",
    "c = np.array([[1,2,3], [4,5,6]])\n",
    "d = np.array([[[1,2,3], [4,5,6]], [[1,2,3], [4,5,6]]])\n",
    "\n",
    "print(a.ndim)\n",
    "print(b.ndim)\n",
    "print(c.ndim)\n",
    "print(d.ndim)"
   ]
  },
  {
   "cell_type": "markdown",
   "id": "3988457f-ec61-48ac-8430-8a56a9a55065",
   "metadata": {},
   "source": [
    "### Higher Dimensional Array\n",
    "An array can have any number of dimensions.\n",
    "\n",
    "When the array is created, you can define the number of dimensions by using the ndim argument"
   ]
  },
  {
   "cell_type": "markdown",
   "id": "5ec574da-b4eb-4ae9-98c5-2c1f07c0a967",
   "metadata": {},
   "source": [
    "### Create an array with 5 dimensions and verify that it has 5 dimensions:"
   ]
  },
  {
   "cell_type": "code",
   "execution_count": 12,
   "id": "9776f560-1090-445f-829c-1a08df32a9db",
   "metadata": {},
   "outputs": [
    {
     "name": "stdout",
     "output_type": "stream",
     "text": [
      "[[[[[1 2 3 4]]]]]\n",
      "number of dimensions: 5\n"
     ]
    }
   ],
   "source": [
    "arr = np.array([1,2,3,4], ndmin = 5)\n",
    "\n",
    "print(arr)\n",
    "print('number of dimensions:', arr.ndim)"
   ]
  },
  {
   "cell_type": "markdown",
   "id": "153b6571-f0e2-45fe-aa42-74b627f4a8cf",
   "metadata": {},
   "source": [
    "### Numpy Array Indexing\n",
    "Array indexing is same as accessing an array element.\n",
    "\n",
    "You can access an array element by referring to its index number.\n",
    "\n",
    "The indexes in numpy arrays start with 0.meaning that the first element has index 0.and the second index has index 1 etc."
   ]
  },
  {
   "cell_type": "markdown",
   "id": "6d5a8e7b-cc1b-4425-9c67-4d91caf884f9",
   "metadata": {},
   "source": [
    "### Get the first element from the following array:"
   ]
  },
  {
   "cell_type": "code",
   "execution_count": 13,
   "id": "7040114d-ed36-4a9b-b5ab-55d1a28a2a9c",
   "metadata": {},
   "outputs": [
    {
     "name": "stdout",
     "output_type": "stream",
     "text": [
      "1\n"
     ]
    }
   ],
   "source": [
    "arr = np.array([1, 2, 3, 4])\n",
    "print(arr[0])"
   ]
  },
  {
   "cell_type": "markdown",
   "id": "ddaec43f-1d1d-4392-91da-4476fe5b0507",
   "metadata": {},
   "source": [
    "### get third and sixth and eighth elements from the following array and add them"
   ]
  },
  {
   "cell_type": "code",
   "execution_count": 14,
   "id": "3a9a94aa-4d9c-4b2a-b1d7-d931c3288a5d",
   "metadata": {},
   "outputs": [
    {
     "name": "stdout",
     "output_type": "stream",
     "text": [
      "the second elememnt is 34.0\n",
      "the sixth element is 90.0\n",
      "the eighth element is 10.0\n",
      "sum of this elements are 134.0\n"
     ]
    }
   ],
   "source": [
    "m = np.array([41,87,34,56.8,39.23,90,15,10,19,56])\n",
    "print(\"the second elememnt is\", m[2])\n",
    "print(\"the sixth element is\", m[5])\n",
    "print(\"the eighth element is\", m[7])\n",
    "print(\"sum of this elements are\", m[2]+m[5]+m[7])"
   ]
  },
  {
   "cell_type": "markdown",
   "id": "e136ab43-53ef-45dc-8f98-79fe6dfeecc7",
   "metadata": {},
   "source": [
    "### Access 2-D Arrays\n",
    "To access elements from 2-D arrays we can use comma seperated integers representing the dimension and the index of the element.\n",
    "\n",
    "Think of 2-D arrays like a table with rows and columns, where the dimension represents the row and the index represents the column."
   ]
  },
  {
   "cell_type": "code",
   "execution_count": 15,
   "id": "3c9fe762-9e61-44f4-900f-72cbc75413ad",
   "metadata": {},
   "outputs": [
    {
     "name": "stdout",
     "output_type": "stream",
     "text": [
      "2nd element on 1st row:  20\n"
     ]
    }
   ],
   "source": [
    "arr = np.array([[10,20,30,40,50], [60,70,80,90,100]])\n",
    "\n",
    "print('2nd element on 1st row: ', arr[0,1])"
   ]
  },
  {
   "cell_type": "code",
   "execution_count": 16,
   "id": "cd26198c-0d4a-4997-a67d-71eb1ed1d989",
   "metadata": {},
   "outputs": [
    {
     "name": "stdout",
     "output_type": "stream",
     "text": [
      "4th element on 1st row:  40\n"
     ]
    }
   ],
   "source": [
    "arr = np.array([[10,20,30,40,50], [60,70,80,90,100]])\n",
    "\n",
    "print('4th element on 1st row: ', arr[0, 3])"
   ]
  },
  {
   "cell_type": "code",
   "execution_count": 17,
   "id": "c609cd55-8a3c-4703-8881-b2ac9cc1a4e5",
   "metadata": {},
   "outputs": [
    {
     "name": "stdout",
     "output_type": "stream",
     "text": [
      "1st element on 2nd row:  60\n"
     ]
    }
   ],
   "source": [
    "arr = np.array([[10,20,30,40,50], [60,70,80,90,100]])\n",
    "\n",
    "print('1st element on 2nd row: ', arr[1, 0])"
   ]
  },
  {
   "cell_type": "code",
   "execution_count": 18,
   "id": "a8046887-b148-45ff-adc7-3535a9e2ecbe",
   "metadata": {},
   "outputs": [
    {
     "name": "stdout",
     "output_type": "stream",
     "text": [
      "last element on 2nd row:  100\n"
     ]
    }
   ],
   "source": [
    "arr = np.array([[10,20,30,40,50], [60,70,80,90,100]])\n",
    "\n",
    "print('last element on 2nd row: ', arr[1, 4])"
   ]
  },
  {
   "cell_type": "markdown",
   "id": "697315ee-8c0b-4f8b-a00b-bd82acef682d",
   "metadata": {},
   "source": [
    "### add the first element of row 1 and last element "
   ]
  },
  {
   "cell_type": "code",
   "execution_count": 19,
   "id": "b6f42e44-aa2c-4fc0-bcc0-8fb45728d1b8",
   "metadata": {},
   "outputs": [
    {
     "name": "stdout",
     "output_type": "stream",
     "text": [
      "First element of 1st row:  10\n",
      "last element of 2nd row:  100\n",
      "sum is 110\n"
     ]
    }
   ],
   "source": [
    "arr = np.array([[10,20,30,40,50], [60,70,80,90,100]])\n",
    "\n",
    "print('First element of 1st row: ', arr[0, 0])\n",
    "print('last element of 2nd row: ', arr[1, 4])\n",
    "print(\"sum is\", arr[0,0]+arr[1, 4]) "
   ]
  },
  {
   "cell_type": "markdown",
   "id": "8030914f-c5e9-4975-8e9a-a48e6fa48614",
   "metadata": {},
   "source": [
    "### Access 3-D Arrays\n",
    "To access elements from 3-D arrays we can use comma seperated integers representing the dimensions and the index of the element."
   ]
  },
  {
   "cell_type": "code",
   "execution_count": 20,
   "id": "c4c25779-115c-47f1-bb75-29a61c00cd51",
   "metadata": {},
   "outputs": [
    {
     "name": "stdout",
     "output_type": "stream",
     "text": [
      "6\n"
     ]
    }
   ],
   "source": [
    "arr = np.array([[[1, 2, 3], [4, 5, 6]], [[7, 8, 9], [10, 11, 12]]])\n",
    "\n",
    "print(arr[0, 1, 2])"
   ]
  },
  {
   "cell_type": "code",
   "execution_count": 21,
   "id": "30e37c81-08a0-4224-bbf3-a790c3138702",
   "metadata": {},
   "outputs": [
    {
     "name": "stdout",
     "output_type": "stream",
     "text": [
      "12\n"
     ]
    }
   ],
   "source": [
    "arr = np.array([[[1, 2, 3], [4, 5, 6]], [[7, 8, 9], [10, 11, 12]]])\n",
    "\n",
    "print(arr[1, 1, 2])"
   ]
  },
  {
   "cell_type": "code",
   "execution_count": 22,
   "id": "54db5656-8c38-4e32-a86d-a1ec436f1279",
   "metadata": {},
   "outputs": [
    {
     "name": "stdout",
     "output_type": "stream",
     "text": [
      "8\n"
     ]
    }
   ],
   "source": [
    "arr = np.array([[[1, 2, 3], [4, 5, 6]], [[7, 8, 9], [10, 11, 12]]])\n",
    "\n",
    "print(arr[1, 0, 1])"
   ]
  },
  {
   "cell_type": "markdown",
   "id": "9ea9a80c-1fc6-4dce-bdc1-9e13224ec970",
   "metadata": {},
   "source": [
    "### slicing of numpy arrays"
   ]
  },
  {
   "cell_type": "code",
   "execution_count": 23,
   "id": "4189580c-eac7-4ea1-9e01-1e4a6d74afdf",
   "metadata": {},
   "outputs": [
    {
     "name": "stdout",
     "output_type": "stream",
     "text": [
      "[2 3 4 5]\n"
     ]
    }
   ],
   "source": [
    "arr = np.array([1,2,3,4,5,6,7])\n",
    "print(arr[1:5])"
   ]
  },
  {
   "cell_type": "code",
   "execution_count": 24,
   "id": "b7a4d0fa-1235-42d3-89fa-12eb82046e92",
   "metadata": {},
   "outputs": [
    {
     "name": "stdout",
     "output_type": "stream",
     "text": [
      "[1 3 5 7]\n"
     ]
    }
   ],
   "source": [
    "arr = np.array([1,2,3,4,5,6,7])\n",
    "print(arr[::2])"
   ]
  },
  {
   "cell_type": "markdown",
   "id": "656eab9c-f648-4fab-92fb-82fcdcb508f6",
   "metadata": {},
   "source": [
    "### slicing in 2-D array"
   ]
  },
  {
   "cell_type": "code",
   "execution_count": 25,
   "id": "8611e570-6803-4153-b2a7-a185425f457b",
   "metadata": {},
   "outputs": [
    {
     "name": "stdout",
     "output_type": "stream",
     "text": [
      "[70 80 90]\n"
     ]
    }
   ],
   "source": [
    "a = np.array([[10,20,30,40,50],[60,70,80,90,100]])\n",
    "print(a[1,1:4])"
   ]
  },
  {
   "cell_type": "code",
   "execution_count": 26,
   "id": "14dffa95-6628-4a34-b4ff-4e690579b587",
   "metadata": {},
   "outputs": [
    {
     "name": "stdout",
     "output_type": "stream",
     "text": [
      "[10 20 30]\n"
     ]
    }
   ],
   "source": [
    "a = np.array([[10,20,30,40,50],[60,70,80,90,100]])\n",
    "print(a[0,0:3])"
   ]
  },
  {
   "cell_type": "markdown",
   "id": "0b9ac217-dea0-4999-bc1f-25d63f30b1b2",
   "metadata": {},
   "source": [
    "### checking the data type of an array"
   ]
  },
  {
   "cell_type": "code",
   "execution_count": 27,
   "id": "4a305686-b489-43b5-b395-7fd7d71869e3",
   "metadata": {},
   "outputs": [
    {
     "name": "stdout",
     "output_type": "stream",
     "text": [
      "int32\n"
     ]
    }
   ],
   "source": [
    "np.array([1,2,3,4])\n",
    "print(arr.dtype)"
   ]
  },
  {
   "cell_type": "code",
   "execution_count": 28,
   "id": "93ca85bc-63d0-4794-a450-2fae6cbee4be",
   "metadata": {},
   "outputs": [
    {
     "name": "stdout",
     "output_type": "stream",
     "text": [
      "<U7\n"
     ]
    }
   ],
   "source": [
    "arr = np.array(['animals', 'bat', 'cat'])\n",
    "print(arr.dtype)"
   ]
  },
  {
   "cell_type": "markdown",
   "id": "bf020f93-27ac-42d1-9a32-0cc4eb8f98bb",
   "metadata": {},
   "source": [
    "### creating a data with a defined data type"
   ]
  },
  {
   "cell_type": "code",
   "execution_count": 29,
   "id": "bc769bf7-a5ac-4d2a-b5a7-4ef57693cbed",
   "metadata": {},
   "outputs": [
    {
     "name": "stdout",
     "output_type": "stream",
     "text": [
      "[b'1' b'2' b'3' b'4']\n",
      "\n",
      "|S1\n"
     ]
    }
   ],
   "source": [
    "arr = np.array([1,2,3,4], dtype = 'S')\n",
    "print(arr)\n",
    "print()\n",
    "print(arr.dtype)"
   ]
  },
  {
   "cell_type": "markdown",
   "id": "5f50f363-3b22-4516-a9a6-b024b157f481",
   "metadata": {},
   "source": [
    "### numpy array shape\n",
    "the shape of an array is the number of elements in each dimension"
   ]
  },
  {
   "cell_type": "markdown",
   "id": "9d640f36-e58b-41e5-8be8-5dc8f31c9195",
   "metadata": {},
   "source": [
    "### point the shape of a 2d array"
   ]
  },
  {
   "cell_type": "code",
   "execution_count": 30,
   "id": "88d72f84-e2cd-482a-a793-97d37e4b922d",
   "metadata": {},
   "outputs": [
    {
     "name": "stdout",
     "output_type": "stream",
     "text": [
      "(2, 4)\n"
     ]
    }
   ],
   "source": [
    "arr = np.array([[1,2,3,4],[5,6,7,8]])\n",
    "print(arr.shape)"
   ]
  },
  {
   "cell_type": "code",
   "execution_count": 31,
   "id": "c18e8eee-21f2-4fba-a3d7-3640626648ce",
   "metadata": {},
   "outputs": [
    {
     "name": "stdout",
     "output_type": "stream",
     "text": [
      "(1, 3, 4)\n"
     ]
    }
   ],
   "source": [
    "arr = np.array([[[1,2,3,4], [5,6,7,8], [10,20,30,40]]])\n",
    "print(arr.shape)"
   ]
  },
  {
   "cell_type": "markdown",
   "id": "be414b4f-5f8c-4531-88da-0b6d5fc4e40e",
   "metadata": {},
   "source": [
    "### joining numpy arrays"
   ]
  },
  {
   "cell_type": "code",
   "execution_count": 32,
   "id": "ec08bcf3-2e51-472d-a15f-4620a4cf6a6c",
   "metadata": {},
   "outputs": [
    {
     "name": "stdout",
     "output_type": "stream",
     "text": [
      "[1 2 3 4 5 6]\n"
     ]
    }
   ],
   "source": [
    "arr1 = np.array([1,2,3])\n",
    "\n",
    "arr2 = np.array([4,5,6])\n",
    "\n",
    "arr = np.concatenate((arr1, arr2))\n",
    "\n",
    "print(arr)"
   ]
  },
  {
   "cell_type": "markdown",
   "id": "25a81aff-2c5e-469a-a630-9587d15fcf4d",
   "metadata": {},
   "source": [
    "### join 2 D arrays"
   ]
  },
  {
   "cell_type": "code",
   "execution_count": 33,
   "id": "e6c029d9-d8b7-411a-a2e1-284dc73a1c85",
   "metadata": {},
   "outputs": [
    {
     "name": "stdout",
     "output_type": "stream",
     "text": [
      "[[1 2 5 6]\n",
      " [3 4 7 8]]\n"
     ]
    }
   ],
   "source": [
    "arr1 = np.array([[1,2], [3,4]])\n",
    "\n",
    "arr2 = np.array([[5,6], [7,8]])\n",
    "\n",
    "arr = np.concatenate((arr1, arr2), axis = 1)\n",
    "\n",
    "print(arr)"
   ]
  },
  {
   "cell_type": "code",
   "execution_count": 34,
   "id": "a05955ad-3ca2-4713-a4fe-f153c2aaa77c",
   "metadata": {},
   "outputs": [
    {
     "name": "stdout",
     "output_type": "stream",
     "text": [
      "[[1 2]\n",
      " [3 4]\n",
      " [5 6]\n",
      " [7 8]]\n"
     ]
    }
   ],
   "source": [
    "arr1 = np.array([[1,2], [3,4]])\n",
    "\n",
    "arr2 = np.array([[5,6], [7,8]])\n",
    "\n",
    "arr = np.concatenate((arr1, arr2), axis=0)\n",
    "\n",
    "print(arr)"
   ]
  },
  {
   "cell_type": "markdown",
   "id": "7598ee57-3875-4a96-914a-a63749406480",
   "metadata": {},
   "source": [
    "### splitting numpy arrays "
   ]
  },
  {
   "cell_type": "markdown",
   "id": "9a7dcbda-dcd9-499d-aadb-878be7affbd1",
   "metadata": {},
   "source": [
    "### splitting the array in 3 parts"
   ]
  },
  {
   "cell_type": "code",
   "execution_count": 35,
   "id": "30de1ca1-64dc-4f1d-ae0e-83efab667688",
   "metadata": {},
   "outputs": [
    {
     "name": "stdout",
     "output_type": "stream",
     "text": [
      "[array([1, 2]), array([3, 4]), array([5, 6])]\n"
     ]
    }
   ],
   "source": [
    "arr = np.array([1,2,3,4,5,6])\n",
    "\n",
    "newarr = np.array_split(arr,3)\n",
    "\n",
    "print(newarr)"
   ]
  },
  {
   "cell_type": "markdown",
   "id": "d0f4a40f-c3b2-4846-80a7-bf341a6691a3",
   "metadata": {},
   "source": [
    "### splitting the array in 4 parts"
   ]
  },
  {
   "cell_type": "code",
   "execution_count": 36,
   "id": "9d3bd299-1897-4e1c-ada8-1c0d3130c405",
   "metadata": {},
   "outputs": [
    {
     "name": "stdout",
     "output_type": "stream",
     "text": [
      "[array([1, 2]), array([3, 4]), array([5]), array([6])]\n"
     ]
    }
   ],
   "source": [
    "arr = np.array([1,2,3,4,5,6])\n",
    "\n",
    "newarr = np.array_split(arr,4)\n",
    "\n",
    "print(newarr)"
   ]
  },
  {
   "cell_type": "markdown",
   "id": "3086145b-9958-44dc-8165-95d4ff9e0036",
   "metadata": {},
   "source": [
    "### ravel & flatten\n",
    "converts multidimensional array into 1 d array"
   ]
  },
  {
   "cell_type": "code",
   "execution_count": 37,
   "id": "d5adab80-3ba9-4642-be49-d6c435711e1a",
   "metadata": {},
   "outputs": [
    {
     "name": "stdout",
     "output_type": "stream",
     "text": [
      "[[[1 2 3]\n",
      "  [4 5 6]\n",
      "  [7 8 9]]]\n",
      "dimension is 3\n"
     ]
    }
   ],
   "source": [
    "m = np.array([[[1,2,3], [4,5,6], [7,8,9]]])\n",
    "print(m)\n",
    "print(\"dimension is\", m.ndim)"
   ]
  },
  {
   "cell_type": "code",
   "execution_count": 38,
   "id": "fbd39ca5-8192-401c-8bc3-e6179b4d6738",
   "metadata": {},
   "outputs": [
    {
     "name": "stdout",
     "output_type": "stream",
     "text": [
      "[[[1 2 3]\n",
      "  [4 5 6]\n",
      "  [7 8 9]]]\n",
      "dimension is 3\n",
      "[[[1 2 3]\n",
      "  [4 5 6]\n",
      "  [7 8 9]]]\n",
      "now the new dimension is n.ndim\n"
     ]
    }
   ],
   "source": [
    "m = np.array([[[1,2,3], [4,5,6], [7,8,9]]])\n",
    "print(m)\n",
    "print(\"dimension is\", m.ndim)\n",
    "n = m.ravel() / m.flatten()\n",
    "print(m)\n",
    "print(\"now the new dimension is n.ndim\")"
   ]
  },
  {
   "cell_type": "code",
   "execution_count": 39,
   "id": "b93c5e14-5626-43f9-af7d-f3acfef4e172",
   "metadata": {},
   "outputs": [
    {
     "name": "stdout",
     "output_type": "stream",
     "text": [
      "[[[[ 1  2  3]\n",
      "   [78 89 25]\n",
      "   [45 26 84]]]]\n",
      "the dimension is 4\n",
      "[ 1  2  3 78 89 25 45 26 84]\n",
      "niw the new dimension is 1\n"
     ]
    }
   ],
   "source": [
    "c = np.array([[[[1,2,3], [78,89,25], [45,26,84]]]])\n",
    "print(c)\n",
    "print(\"the dimension is\", c.ndim)\n",
    "d = c.ravel()\n",
    "print(d)\n",
    "print(\"niw the new dimension is\", n.ndim)"
   ]
  },
  {
   "cell_type": "markdown",
   "id": "496f981c-bedb-4f33-a633-7566bf08a39c",
   "metadata": {},
   "source": [
    "### unique function"
   ]
  },
  {
   "cell_type": "code",
   "execution_count": 40,
   "id": "8637a5e6-2c8a-4ddf-abc6-327f5f777aeb",
   "metadata": {},
   "outputs": [
    {
     "name": "stdout",
     "output_type": "stream",
     "text": [
      "[12  1  4  6  7  9  3  4  5 22 33  7  6  1  2 12]\n",
      "[ 1  2  3  4  5  6  7  9 12 22 33]\n"
     ]
    }
   ],
   "source": [
    "k = np.array([12,1,4,6,7,9,3,4,5,22,33,7,6,1,2,12])\n",
    "print(k)\n",
    "x = np.unique(k)\n",
    "print(x)"
   ]
  },
  {
   "cell_type": "code",
   "execution_count": 41,
   "id": "ed28cf39-3642-4695-bb12-e4982ec5df68",
   "metadata": {},
   "outputs": [
    {
     "name": "stdout",
     "output_type": "stream",
     "text": [
      "[12  1  4  6  7  9  3  4  5 22 33  7  9  1  2 12]\n",
      "(array([ 1,  2,  3,  4,  5,  6,  7,  9, 12, 22, 33]), array([ 1, 14,  6,  2,  8,  3,  4,  5,  0,  9, 10], dtype=int64), array([2, 1, 1, 2, 1, 1, 2, 2, 2, 1, 1], dtype=int64))\n"
     ]
    }
   ],
   "source": [
    "k = np.array([12,1,4,6,7,9,3,4,5,22,33,7,9,1,2,12])\n",
    "print(k)\n",
    "x = np.unique(k, return_index=True, return_counts=True)\n",
    "print(x)"
   ]
  },
  {
   "cell_type": "markdown",
   "id": "41a44339-9ded-4b12-934a-e8518d4c1f62",
   "metadata": {},
   "source": [
    "### delete"
   ]
  },
  {
   "cell_type": "code",
   "execution_count": 42,
   "id": "17e98df8-6b59-40c4-9c5b-f74737765a5c",
   "metadata": {},
   "outputs": [
    {
     "name": "stdout",
     "output_type": "stream",
     "text": [
      "[12 14 15]\n"
     ]
    }
   ],
   "source": [
    "a = np.array([12,13,14,15])\n",
    "d = np.delete(a,[1])\n",
    "print(d)"
   ]
  },
  {
   "cell_type": "code",
   "execution_count": 43,
   "id": "68b9505b-eeb9-4e7c-922d-6cec4b2f2c72",
   "metadata": {},
   "outputs": [
    {
     "name": "stdout",
     "output_type": "stream",
     "text": [
      "[[ 2  7  9  6  8]\n",
      " [ 4  5  7  1  2]\n",
      " [50  0 65  6  7]]\n"
     ]
    }
   ],
   "source": [
    "x = np.array([[2,7,9,6,8],[4,5,7,1,2],[50,0,65,6,7]])\n",
    "print(x)"
   ]
  },
  {
   "cell_type": "code",
   "execution_count": 44,
   "id": "b2222561-b9c9-4e34-afd8-bfc9835a7628",
   "metadata": {},
   "outputs": [
    {
     "name": "stdout",
     "output_type": "stream",
     "text": [
      "[[ 2  7  9  6  8]\n",
      " [ 4  5  7  1  2]\n",
      " [50  0 65  6  7]]\n",
      "\n",
      "[[ 2  7  9  6  8]\n",
      " [50  0 65  6  7]]\n"
     ]
    }
   ],
   "source": [
    "x = np.array([[2,7,9,6,8],[4,5,7,1,2],[50,0,65,6,7]])\n",
    "print(x)\n",
    "m = np.delete(x,1,axis=0)\n",
    "print()\n",
    "print(m)"
   ]
  }
 ],
 "metadata": {
  "kernelspec": {
   "display_name": "Python 3 (ipykernel)",
   "language": "python",
   "name": "python3"
  },
  "language_info": {
   "codemirror_mode": {
    "name": "ipython",
    "version": 3
   },
   "file_extension": ".py",
   "mimetype": "text/x-python",
   "name": "python",
   "nbconvert_exporter": "python",
   "pygments_lexer": "ipython3",
   "version": "3.12.7"
  }
 },
 "nbformat": 4,
 "nbformat_minor": 5
}
