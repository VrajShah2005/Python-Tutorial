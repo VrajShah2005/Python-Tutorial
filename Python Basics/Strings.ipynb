{
 "cells": [
  {
   "cell_type": "markdown",
   "id": "cca464e3-1f08-4cf0-a54e-66b000e43844",
   "metadata": {},
   "source": [
    "# Strings"
   ]
  },
  {
   "cell_type": "markdown",
   "id": "027832e9-1016-412d-b5ab-3ea931c691b9",
   "metadata": {},
   "source": [
    "### Creating strings in Python"
   ]
  },
  {
   "cell_type": "code",
   "execution_count": 1,
   "id": "405ccc38-8cf8-43b5-b6ed-fc760ec25471",
   "metadata": {},
   "outputs": [
    {
     "name": "stdout",
     "output_type": "stream",
     "text": [
      "Hello\n"
     ]
    }
   ],
   "source": [
    "a = 'Hello'\n",
    "print(a)"
   ]
  },
  {
   "cell_type": "code",
   "execution_count": 2,
   "id": "e8527294-d015-4266-8439-fb731b32dcd8",
   "metadata": {},
   "outputs": [
    {
     "name": "stdout",
     "output_type": "stream",
     "text": [
      "we are learning python and this is our day 7 class\n",
      "<class 'str'>\n"
     ]
    }
   ],
   "source": [
    "b = \"we are learning python and this is our day 7 class\"\n",
    "print(b)\n",
    "print(type(b))"
   ]
  },
  {
   "cell_type": "markdown",
   "id": "09e28279-3b81-48db-9b20-e0ee41a1acec",
   "metadata": {},
   "source": [
    "### Indexing of strings"
   ]
  },
  {
   "cell_type": "code",
   "execution_count": 3,
   "id": "56a0907b-3f4c-4713-aaa4-4fe2b1d47659",
   "metadata": {},
   "outputs": [
    {
     "name": "stdout",
     "output_type": "stream",
     "text": [
      "n\n"
     ]
    }
   ],
   "source": [
    "a = \"hello student\"\n",
    "print(a[11])"
   ]
  },
  {
   "cell_type": "code",
   "execution_count": 4,
   "id": "3549030b-cf65-4786-bb31-ddf35e1fecee",
   "metadata": {},
   "outputs": [
    {
     "name": "stdout",
     "output_type": "stream",
     "text": [
      "t\n"
     ]
    }
   ],
   "source": [
    "a = \"hello students\"\n",
    "print(a[-2])"
   ]
  },
  {
   "cell_type": "markdown",
   "id": "cae1fd95-2aac-4845-8699-2f508f54f610",
   "metadata": {},
   "source": [
    "### Slicing of strings"
   ]
  },
  {
   "cell_type": "code",
   "execution_count": 7,
   "id": "f0b1e7bd-2ee8-438d-a36d-040ca3c562f8",
   "metadata": {},
   "outputs": [
    {
     "name": "stdout",
     "output_type": "stream",
     "text": [
      "Hello\n"
     ]
    }
   ],
   "source": [
    "s = \"Hello everyone how are you?\"\n",
    "print(s[0:5])"
   ]
  },
  {
   "cell_type": "code",
   "execution_count": 8,
   "id": "8b0040c7-3e04-464a-83ac-28b5b4136699",
   "metadata": {},
   "outputs": [
    {
     "name": "stdout",
     "output_type": "stream",
     "text": [
      "everyone how\n"
     ]
    }
   ],
   "source": [
    "s = \"Hello everyone how are you?\"\n",
    "print(s[6:18])"
   ]
  },
  {
   "cell_type": "code",
   "execution_count": 9,
   "id": "7eec0bc4-bc6a-4a9e-9160-87b6c6a95da6",
   "metadata": {},
   "outputs": [
    {
     "name": "stdout",
     "output_type": "stream",
     "text": [
      "Hloeeyn o \n"
     ]
    }
   ],
   "source": [
    "s = \"Hello everyone how are you?\"\n",
    "print(s[0:20:2])"
   ]
  },
  {
   "cell_type": "code",
   "execution_count": 12,
   "id": "52457309-ff51-4e4d-b751-24f2179384d7",
   "metadata": {},
   "outputs": [
    {
     "name": "stdout",
     "output_type": "stream",
     "text": [
      "?uoy era woh enoyreve olleH\n"
     ]
    }
   ],
   "source": [
    "s = \"Hello everyone how are you?\"\n",
    "print(s[::-1])"
   ]
  },
  {
   "cell_type": "markdown",
   "id": "7d20ddc3-bfff-4cea-9554-6f4ae8610c51",
   "metadata": {},
   "source": [
    "### finding the length of a string"
   ]
  },
  {
   "cell_type": "code",
   "execution_count": 13,
   "id": "01c0ae16-51bf-4131-bee2-773ab816bb0d",
   "metadata": {},
   "outputs": [
    {
     "name": "stdout",
     "output_type": "stream",
     "text": [
      "30\n"
     ]
    }
   ],
   "source": [
    "a = \"this is our day 7 python class\"\n",
    "print(len(a))"
   ]
  },
  {
   "cell_type": "code",
   "execution_count": 14,
   "id": "54126deb-f218-4c65-af8e-d4bc47077b38",
   "metadata": {},
   "outputs": [
    {
     "name": "stdout",
     "output_type": "stream",
     "text": [
      "hello world\n",
      "11\n"
     ]
    }
   ],
   "source": [
    "b = \"hello world\"\n",
    "print(b)\n",
    "print(len(b))"
   ]
  },
  {
   "cell_type": "markdown",
   "id": "5f8e57f5-e15e-4052-9fd4-073a209d5c9c",
   "metadata": {},
   "source": [
    "### upper method"
   ]
  },
  {
   "cell_type": "code",
   "execution_count": 15,
   "id": "fbd14776-cf26-4ce9-baf1-30e2ed338601",
   "metadata": {},
   "outputs": [
    {
     "name": "stdout",
     "output_type": "stream",
     "text": [
      "HELLO HOW ARE YOU\n"
     ]
    }
   ],
   "source": [
    "a = \"hello how are you\"\n",
    "print(a.upper())"
   ]
  },
  {
   "cell_type": "markdown",
   "id": "17cc2eee-4f83-401f-8276-f327a27e8637",
   "metadata": {},
   "source": [
    "### lower method"
   ]
  },
  {
   "cell_type": "code",
   "execution_count": 17,
   "id": "c764579e-e02b-4232-9780-ed72917917df",
   "metadata": {},
   "outputs": [
    {
     "name": "stdout",
     "output_type": "stream",
     "text": [
      "hello students\n"
     ]
    }
   ],
   "source": [
    "a = \"HELLO STUDENTS\"\n",
    "print(a.lower())"
   ]
  },
  {
   "cell_type": "markdown",
   "id": "832056f1-08a7-441a-8271-f98dc03542f1",
   "metadata": {},
   "source": [
    "### Replace Function"
   ]
  },
  {
   "cell_type": "code",
   "execution_count": 19,
   "id": "d820fa5c-9dd4-4dfa-946b-753614e68e38",
   "metadata": {},
   "outputs": [
    {
     "name": "stdout",
     "output_type": "stream",
     "text": [
      "bye how are you\n"
     ]
    }
   ],
   "source": [
    "a = \"hello how are you\"\n",
    "print(a.replace(\"hello\", \"bye\"))"
   ]
  },
  {
   "cell_type": "code",
   "execution_count": 20,
   "id": "960145e8-9deb-44c6-bd54-84bcdbeeda31",
   "metadata": {},
   "outputs": [
    {
     "name": "stdout",
     "output_type": "stream",
     "text": [
      "hello world\n",
      "hello students\n"
     ]
    }
   ],
   "source": [
    "b = \"hello world\"\n",
    "print(b)\n",
    "print(b.replace(\"world\", \"students\"))"
   ]
  },
  {
   "cell_type": "markdown",
   "id": "42560af6-37f3-43d4-a1f7-d0b9256655b7",
   "metadata": {},
   "source": [
    "### find method"
   ]
  },
  {
   "cell_type": "code",
   "execution_count": null,
   "id": "e1f9fdd1-8729-485b-b386-051b8cbf12c4",
   "metadata": {},
   "outputs": [],
   "source": []
  }
 ],
 "metadata": {
  "kernelspec": {
   "display_name": "Python 3 (ipykernel)",
   "language": "python",
   "name": "python3"
  },
  "language_info": {
   "codemirror_mode": {
    "name": "ipython",
    "version": 3
   },
   "file_extension": ".py",
   "mimetype": "text/x-python",
   "name": "python",
   "nbconvert_exporter": "python",
   "pygments_lexer": "ipython3",
   "version": "3.12.7"
  }
 },
 "nbformat": 4,
 "nbformat_minor": 5
}
