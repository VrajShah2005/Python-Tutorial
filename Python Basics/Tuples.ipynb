{
 "cells": [
  {
   "cell_type": "markdown",
   "id": "77e33241-de06-4b73-861f-51ee34dbbac3",
   "metadata": {},
   "source": [
    "# Tuples"
   ]
  },
  {
   "cell_type": "code",
   "execution_count": 1,
   "id": "a34f6ee0-8a0a-4434-b8ff-fc308bfae77f",
   "metadata": {},
   "outputs": [
    {
     "name": "stdout",
     "output_type": "stream",
     "text": [
      "(1, 2, 3)\n",
      "<class 'tuple'>\n"
     ]
    }
   ],
   "source": [
    "my_tuple = (1,2,3)\n",
    "print(my_tuple)\n",
    "print(type(my_tuple))"
   ]
  },
  {
   "cell_type": "markdown",
   "id": "f7852d68-9d57-4f79-8c5c-069b91e65432",
   "metadata": {},
   "source": [
    "### Mixed datatypes"
   ]
  },
  {
   "cell_type": "code",
   "execution_count": 6,
   "id": "17f68f83-9b71-466d-9b2e-5e749d25c8ff",
   "metadata": {},
   "outputs": [
    {
     "name": "stdout",
     "output_type": "stream",
     "text": [
      "(1, 'hello', 3.2, (4+5j))\n",
      "<class 'tuple'>\n"
     ]
    }
   ],
   "source": [
    "my_tuple = (1, \"hello\", 3.2, 4+5j)\n",
    "print(my_tuple)\n",
    "print(type(my_tuple))"
   ]
  },
  {
   "cell_type": "markdown",
   "id": "e1d7556a-20a8-4af7-a211-aae1ebfd90e4",
   "metadata": {},
   "source": [
    "### empty tuple"
   ]
  },
  {
   "cell_type": "code",
   "execution_count": 4,
   "id": "421731f0-c5b0-4753-bd26-523264deb34c",
   "metadata": {},
   "outputs": [
    {
     "name": "stdout",
     "output_type": "stream",
     "text": [
      "()\n",
      "<class 'tuple'>\n"
     ]
    }
   ],
   "source": [
    "my_tuple = ()\n",
    "print(my_tuple)\n",
    "print(type(my_tuple))"
   ]
  },
  {
   "cell_type": "markdown",
   "id": "080e57a7-d41a-44f7-80a6-9504a537e551",
   "metadata": {},
   "source": [
    "### nested tuples"
   ]
  },
  {
   "cell_type": "code",
   "execution_count": 8,
   "id": "374beea0-3529-41a7-b146-0693b0f3dc3f",
   "metadata": {},
   "outputs": [
    {
     "name": "stdout",
     "output_type": "stream",
     "text": [
      "('data', [1, 2, 3], (4, 5, 6))\n",
      "<class 'tuple'>\n"
     ]
    }
   ],
   "source": [
    "a = (\"data\", [1,2,3], (4,5,6))\n",
    "print(a)\n",
    "print(type(a))"
   ]
  },
  {
   "cell_type": "markdown",
   "id": "b9aa8cf9-2ae3-4cb6-a93e-490b5b40f1d8",
   "metadata": {},
   "source": [
    "### creating a tuple with only one item"
   ]
  },
  {
   "cell_type": "code",
   "execution_count": 12,
   "id": "eb990dcc-e1b7-4d9a-95e7-a4a690e6d358",
   "metadata": {},
   "outputs": [
    {
     "name": "stdout",
     "output_type": "stream",
     "text": [
      "('hello',)\n",
      "<class 'tuple'>\n"
     ]
    }
   ],
   "source": [
    "var2 = (\"hello\",)\n",
    "print(var2)\n",
    "print(type(var2))"
   ]
  },
  {
   "cell_type": "markdown",
   "id": "429ad194-8e5a-41f8-a73d-1374bc8a8126",
   "metadata": {},
   "source": [
    "### tuple constructor"
   ]
  },
  {
   "cell_type": "code",
   "execution_count": 13,
   "id": "f274663c-4e44-4434-a1fb-8e7f31691c6a",
   "metadata": {},
   "outputs": [
    {
     "name": "stdout",
     "output_type": "stream",
     "text": [
      "('a', 'b', 'c')\n",
      "<class 'tuple'>\n"
     ]
    }
   ],
   "source": [
    "a = tuple((\"a\",\"b\",\"c\"))\n",
    "print(a)\n",
    "print(type(a))"
   ]
  },
  {
   "cell_type": "markdown",
   "id": "e0cbb774-bfc8-44d9-8516-bc6f325b02a1",
   "metadata": {},
   "source": [
    "### indexing"
   ]
  },
  {
   "cell_type": "code",
   "execution_count": 14,
   "id": "79801475-ac35-4f75-b2fb-5689a9b2f567",
   "metadata": {},
   "outputs": [
    {
     "name": "stdout",
     "output_type": "stream",
     "text": [
      "4\n"
     ]
    }
   ],
   "source": [
    "a = (47,48,45,46,48,4,8)\n",
    "print(a[5])"
   ]
  },
  {
   "cell_type": "code",
   "execution_count": 15,
   "id": "01a659b9-d2b2-40fe-b6e2-3b3203367768",
   "metadata": {},
   "outputs": [
    {
     "name": "stdout",
     "output_type": "stream",
     "text": [
      "data\n"
     ]
    }
   ],
   "source": [
    "a = (47,48,45,46,48,4,8,\"data\",\"python\")\n",
    "print(a[7])"
   ]
  },
  {
   "cell_type": "code",
   "execution_count": 16,
   "id": "00a0ed26-c320-4565-8cf7-67a362796f49",
   "metadata": {},
   "outputs": [
    {
     "name": "stdout",
     "output_type": "stream",
     "text": [
      "python\n"
     ]
    }
   ],
   "source": [
    "a = (47,48,45,46,48,4,8,\"data\",\"python\")\n",
    "print(a[-1])"
   ]
  },
  {
   "cell_type": "markdown",
   "id": "caa7bd97-534c-4b07-90c5-6d8d1600cb86",
   "metadata": {},
   "source": [
    "### slicing"
   ]
  },
  {
   "cell_type": "code",
   "execution_count": 17,
   "id": "07ef9c43-5b29-439b-9ad4-2f694ebe937d",
   "metadata": {},
   "outputs": [
    {
     "name": "stdout",
     "output_type": "stream",
     "text": [
      "(14, 15, 17, 821, 5, 852)\n"
     ]
    }
   ],
   "source": [
    "a = (14,15,17,821,5,852,8,29,2,8,2,4)\n",
    "print(a[0:6])"
   ]
  },
  {
   "cell_type": "code",
   "execution_count": 18,
   "id": "c39d78c4-e3b6-4a95-b2d6-8a78921fb321",
   "metadata": {},
   "outputs": [
    {
     "name": "stdout",
     "output_type": "stream",
     "text": [
      "(14, 15, 17, 821, 5, 852)\n"
     ]
    }
   ],
   "source": [
    "a = (14,15,17,821,5,852,8,29,2,8,2,4)\n",
    "print(a[:6])"
   ]
  },
  {
   "cell_type": "code",
   "execution_count": 20,
   "id": "9bca6ced-e930-4b04-b9e0-342831bfb752",
   "metadata": {},
   "outputs": [
    {
     "name": "stdout",
     "output_type": "stream",
     "text": [
      "(14, 15, 17, 821, 5, 852, 8, 29, 2, 8, 2, 4)\n"
     ]
    }
   ],
   "source": [
    "a = (14,15,17,821,5,852,8,29,2,8,2,4)\n",
    "print(a[0:13])"
   ]
  },
  {
   "cell_type": "markdown",
   "id": "536fef91-f095-4a68-a6a6-eed74d04e496",
   "metadata": {},
   "source": [
    "### reverse"
   ]
  },
  {
   "cell_type": "code",
   "execution_count": 23,
   "id": "ea96dbce-9633-4f15-8a0a-eb1fc4ec0cc4",
   "metadata": {},
   "outputs": [
    {
     "name": "stdout",
     "output_type": "stream",
     "text": [
      "(4, 2, 8, 29, 8, 852, 5, 821, 17, 15, 14)\n"
     ]
    }
   ],
   "source": [
    "a = (14,15,17,821,5,852,8,29,8,2,4)\n",
    "print(a[::-1])"
   ]
  },
  {
   "cell_type": "code",
   "execution_count": null,
   "id": "354bd6cf-a649-4aba-8934-b50175821eab",
   "metadata": {},
   "outputs": [],
   "source": [
    "T = (1,2,3,5,6,7,8)\n",
    "print(T[::])\n",
    "print(T[3:])\n",
    "print(T[:4])\n",
    "print(T[:4])\n",
    "print(T[:4])\n",
    "print(T[-2:-5])"
   ]
  },
  {
   "cell_type": "code",
   "execution_count": 2,
   "id": "17bf9eda-3c26-4142-969b-a6f7e84a63fe",
   "metadata": {},
   "outputs": [
    {
     "name": "stdout",
     "output_type": "stream",
     "text": [
      "(1, 2, 3, 5, 123, 45, 24, 2, 4, 3)\n",
      "<class 'tuple'>\n"
     ]
    }
   ],
   "source": [
    "t = (1,2,3,5,123,45,24,2,4,3)\n",
    "print(t)\n",
    "print(type(t))"
   ]
  },
  {
   "cell_type": "code",
   "execution_count": 3,
   "id": "0878e702-5fa3-4449-86f6-141538e25cce",
   "metadata": {},
   "outputs": [
    {
     "name": "stdout",
     "output_type": "stream",
     "text": [
      "(25, 26, 27, 28, 29, 30)\n"
     ]
    }
   ],
   "source": [
    "a = (25,26,27,28,29)\n",
    "y = list(a)\n",
    "y.append(30)\n",
    "a = tuple(y)\n",
    "print(a)"
   ]
  },
  {
   "cell_type": "code",
   "execution_count": 4,
   "id": "c7665437-0661-41cc-8a40-dd38873016cb",
   "metadata": {},
   "outputs": [
    {
     "name": "stdout",
     "output_type": "stream",
     "text": [
      "(25, 27, 28, 29)\n"
     ]
    }
   ],
   "source": [
    "a = (25,26,27,28,29)\n",
    "y = list(a)\n",
    "y.remove(26)\n",
    "a = tuple(y)\n",
    "print(a)"
   ]
  },
  {
   "cell_type": "markdown",
   "id": "86e68b54-ef3f-4e77-9ea0-644417b2135d",
   "metadata": {},
   "source": [
    "### Loop"
   ]
  },
  {
   "cell_type": "code",
   "execution_count": 8,
   "id": "53d2d73b-7a01-4a68-9b6a-b971cff750f5",
   "metadata": {},
   "outputs": [
    {
     "name": "stdout",
     "output_type": "stream",
     "text": [
      "a\n",
      "b\n",
      "c\n"
     ]
    }
   ],
   "source": [
    "thistuple = (\"a\", \"b\", \"c\")\n",
    "for x in thistuple:\n",
    "    print(x)"
   ]
  },
  {
   "cell_type": "markdown",
   "id": "b55c4eca-54d5-434a-8bc0-e44eccaee3a1",
   "metadata": {},
   "source": [
    "### join two tuple"
   ]
  },
  {
   "cell_type": "code",
   "execution_count": 9,
   "id": "e3b7c7dc-8b5b-4f3f-9a28-ae9c7cc55879",
   "metadata": {},
   "outputs": [
    {
     "name": "stdout",
     "output_type": "stream",
     "text": [
      "('a', 'b', 'c', 1, 2, 3)\n"
     ]
    }
   ],
   "source": [
    "tuple1 = (\"a\",\"b\",\"c\")\n",
    "tuple2 = (1,2,3)\n",
    "tuple3 = tuple1+tuple2\n",
    "print(tuple3)"
   ]
  },
  {
   "cell_type": "markdown",
   "id": "98551ad8-cb41-4e11-acdf-6420085e28e7",
   "metadata": {},
   "source": [
    "### multiply"
   ]
  },
  {
   "cell_type": "code",
   "execution_count": 10,
   "id": "e20533a8-f7f1-4606-b21d-58f587ecaeef",
   "metadata": {},
   "outputs": [
    {
     "name": "stdout",
     "output_type": "stream",
     "text": [
      "('apple', 'data', 'python', 'apple', 'data', 'python')\n"
     ]
    }
   ],
   "source": [
    "a = (\"apple\", \"data\", \"python\")\n",
    "b = a*2\n",
    "print(b)"
   ]
  },
  {
   "cell_type": "code",
   "execution_count": 11,
   "id": "d8638593-49c2-4022-9602-6676149aa68c",
   "metadata": {},
   "outputs": [
    {
     "name": "stdout",
     "output_type": "stream",
     "text": [
      "(1, 2, 3, 4, 5, 6, 7, 8, 1, 2, 3, 4, 5, 6, 7, 8)\n",
      "(1, 2, 3, 4, 5, 6, 7, 8, 1, 2, 3, 4, 5, 6, 7, 8, 1, 2, 3, 4, 5, 6, 7, 8)\n",
      "(1, 2, 3, 4, 5, 6, 7, 8, 1, 2, 3, 4, 5, 6, 7, 8)\n",
      "8\n"
     ]
    }
   ],
   "source": [
    "T = (1,2,3,4,5,6,7,8)\n",
    "print(T*2)\n",
    "print(T+T+T)\n",
    "print(T+T)\n",
    "print(len(T))"
   ]
  },
  {
   "cell_type": "markdown",
   "id": "30916e35-bfe2-4bb9-894e-bbdccf309620",
   "metadata": {},
   "source": [
    "### Write a program, to take 5 input from the user and store it in a tuple."
   ]
  },
  {
   "cell_type": "code",
   "execution_count": 14,
   "id": "dabf5939-4e41-41ee-9313-44900c9b72f2",
   "metadata": {},
   "outputs": [
    {
     "name": "stdin",
     "output_type": "stream",
     "text": [
      "enter the values please 10\n"
     ]
    },
    {
     "name": "stdout",
     "output_type": "stream",
     "text": [
      "(10,)\n"
     ]
    },
    {
     "name": "stdin",
     "output_type": "stream",
     "text": [
      "enter the values please 20\n"
     ]
    },
    {
     "name": "stdout",
     "output_type": "stream",
     "text": [
      "(10, 20)\n"
     ]
    },
    {
     "name": "stdin",
     "output_type": "stream",
     "text": [
      "enter the values please 30\n"
     ]
    },
    {
     "name": "stdout",
     "output_type": "stream",
     "text": [
      "(10, 20, 30)\n"
     ]
    },
    {
     "name": "stdin",
     "output_type": "stream",
     "text": [
      "enter the values please 40\n"
     ]
    },
    {
     "name": "stdout",
     "output_type": "stream",
     "text": [
      "(10, 20, 30, 40)\n"
     ]
    },
    {
     "name": "stdin",
     "output_type": "stream",
     "text": [
      "enter the values please 50\n"
     ]
    },
    {
     "name": "stdout",
     "output_type": "stream",
     "text": [
      "(10, 20, 30, 40, 50)\n"
     ]
    },
    {
     "name": "stdin",
     "output_type": "stream",
     "text": [
      "enter the values please 60\n"
     ]
    },
    {
     "name": "stdout",
     "output_type": "stream",
     "text": [
      "(10, 20, 30, 40, 50, 60)\n"
     ]
    }
   ],
   "source": [
    "T = ()\n",
    "i = 0\n",
    "while i<=5:\n",
    "    num = int(input(\"enter the values please\"))\n",
    "    T = T+(num,)\n",
    "    i = i+1\n",
    "    print(T)"
   ]
  }
 ],
 "metadata": {
  "kernelspec": {
   "display_name": "Python 3 (ipykernel)",
   "language": "python",
   "name": "python3"
  },
  "language_info": {
   "codemirror_mode": {
    "name": "ipython",
    "version": 3
   },
   "file_extension": ".py",
   "mimetype": "text/x-python",
   "name": "python",
   "nbconvert_exporter": "python",
   "pygments_lexer": "ipython3",
   "version": "3.12.7"
  }
 },
 "nbformat": 4,
 "nbformat_minor": 5
}
