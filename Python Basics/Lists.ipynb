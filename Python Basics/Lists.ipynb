{
 "cells": [
  {
   "cell_type": "markdown",
   "id": "b8db8579-ff53-4773-ba8a-a4310eaef445",
   "metadata": {},
   "source": [
    "# List"
   ]
  },
  {
   "cell_type": "markdown",
   "id": "adc59063-22a2-4654-ac53-9199011226da",
   "metadata": {},
   "source": [
    "### Creating a list"
   ]
  },
  {
   "cell_type": "code",
   "execution_count": 1,
   "id": "c6550195-64d2-417b-b183-d940add7c5c9",
   "metadata": {},
   "outputs": [
    {
     "name": "stdout",
     "output_type": "stream",
     "text": [
      "['apple', 'banana', 'cherry']\n",
      "<class 'list'>\n"
     ]
    }
   ],
   "source": [
    "mylist = [\"apple\", \"banana\", \"cherry\"]\n",
    "print(mylist)\n",
    "print(type(mylist))"
   ]
  },
  {
   "cell_type": "markdown",
   "id": "2fc5b7fd-47ed-4320-874e-76239dd35940",
   "metadata": {},
   "source": [
    "### Allow duplicates"
   ]
  },
  {
   "cell_type": "code",
   "execution_count": 2,
   "id": "8f670120-8d2f-4e0d-8dfd-24bbddc2acce",
   "metadata": {},
   "outputs": [
    {
     "name": "stdout",
     "output_type": "stream",
     "text": [
      "['apple', 'banana', 'apple', 'cherry', 'banana', 'apple']\n"
     ]
    }
   ],
   "source": [
    "mylist = [\"apple\", \"banana\", \"apple\", \"cherry\", \"banana\", \"apple\"]\n",
    "print(mylist)"
   ]
  },
  {
   "cell_type": "markdown",
   "id": "ab778b38-0163-4bca-aa9d-ea20ae4f669c",
   "metadata": {},
   "source": [
    "### data types"
   ]
  },
  {
   "cell_type": "code",
   "execution_count": 4,
   "id": "16dfe400-2b66-4ed8-82a2-bb7ea92b90c7",
   "metadata": {},
   "outputs": [
    {
     "name": "stdout",
     "output_type": "stream",
     "text": [
      "['apple', 'banana', 'cherry']\n",
      "[2, 5, 8]\n",
      "[7.8, 8.9, 2.5]\n",
      "[True, False, True]\n"
     ]
    }
   ],
   "source": [
    "list1 = [\"apple\", \"banana\", \"cherry\"]\n",
    "list2 = [2,5,8]\n",
    "list3 = [7.8, 8.9, 2.5]\n",
    "list4 = [True, False, True]\n",
    "print(list1)\n",
    "print(list2)\n",
    "print(list3)\n",
    "print(list4)"
   ]
  },
  {
   "cell_type": "code",
   "execution_count": 5,
   "id": "f92a0c5b-3312-47c0-b7e9-4650d5c877ce",
   "metadata": {},
   "outputs": [
    {
     "name": "stdout",
     "output_type": "stream",
     "text": [
      "[12, -8, 5, -7, 2.3, 2, 5, 3.6, 'students', 'hello', True, False]\n"
     ]
    }
   ],
   "source": [
    "a = [12,-8,5,-7,2.3,2,5,3.6,\"students\",\"hello\",True,False]\n",
    "print(a)"
   ]
  },
  {
   "cell_type": "markdown",
   "id": "a54728da-f339-4a1f-84ae-6118da7961d4",
   "metadata": {},
   "source": [
    "### List Length"
   ]
  },
  {
   "cell_type": "code",
   "execution_count": 6,
   "id": "0f0328ac-a3b4-431e-b3cb-e930ab91fdbf",
   "metadata": {},
   "outputs": [
    {
     "name": "stdout",
     "output_type": "stream",
     "text": [
      "12\n"
     ]
    }
   ],
   "source": [
    "a = [12,-8,5,-7,2.3,2,5,3.6,\"students\",\"hello\",True,False]\n",
    "print(len(a))"
   ]
  },
  {
   "cell_type": "markdown",
   "id": "89fd1f5a-a1ad-41a1-809a-0def4055033f",
   "metadata": {},
   "source": [
    "### Access Items"
   ]
  },
  {
   "cell_type": "code",
   "execution_count": 7,
   "id": "716ca434-e3d4-40fa-ad7f-63f667be163d",
   "metadata": {},
   "outputs": [
    {
     "name": "stdout",
     "output_type": "stream",
     "text": [
      "15\n"
     ]
    }
   ],
   "source": [
    "thislist = [12,15,26,78,14,25,96,142,52,22,6,5]\n",
    "print(thislist[1])"
   ]
  },
  {
   "cell_type": "code",
   "execution_count": 10,
   "id": "44ff7fed-05a1-459a-b0e8-07ba6248faac",
   "metadata": {},
   "outputs": [
    {
     "name": "stdout",
     "output_type": "stream",
     "text": [
      "52\n"
     ]
    }
   ],
   "source": [
    "thislist = [12,15,26,78,14,25,96,142,52,22,6,5]\n",
    "print(thislist[8])"
   ]
  },
  {
   "cell_type": "code",
   "execution_count": 12,
   "id": "9a074e0a-4286-4cde-87a3-2f60f0b791f8",
   "metadata": {},
   "outputs": [
    {
     "name": "stdout",
     "output_type": "stream",
     "text": [
      "5\n"
     ]
    }
   ],
   "source": [
    "thislist = [12,15,26,78,14,25,96,142,52,22,6,5]\n",
    "print(thislist[-1])"
   ]
  },
  {
   "cell_type": "markdown",
   "id": "32402a72-db1f-450b-9f71-68e581438b04",
   "metadata": {},
   "source": [
    "### slicing of list"
   ]
  },
  {
   "cell_type": "code",
   "execution_count": 13,
   "id": "261b6bcc-daa7-4fa0-8ea8-854c277be2ba",
   "metadata": {},
   "outputs": [
    {
     "name": "stdout",
     "output_type": "stream",
     "text": [
      "[12, 15, 26, 78, 14, 25]\n"
     ]
    }
   ],
   "source": [
    "thislist = [12,15,26,78,14,25,96,142,52,22,6,5]\n",
    "print(thislist[0:6])"
   ]
  },
  {
   "cell_type": "code",
   "execution_count": 15,
   "id": "0365beb6-e0b9-404f-9234-96dd3f498d7e",
   "metadata": {},
   "outputs": [
    {
     "name": "stdout",
     "output_type": "stream",
     "text": [
      "[12, 26, 14, 96, 52, 6]\n"
     ]
    }
   ],
   "source": [
    "thislist = [12,15,26,78,14,25,96,142,52,22,6,5]\n",
    "print(thislist[0:12:2])"
   ]
  },
  {
   "cell_type": "markdown",
   "id": "97f45a30-15b7-46ea-bdb8-e87226d9a73a",
   "metadata": {},
   "source": [
    "### change items"
   ]
  },
  {
   "cell_type": "code",
   "execution_count": 16,
   "id": "7e2f39a0-e2c4-4f3a-b348-f0fe0c049f4b",
   "metadata": {},
   "outputs": [
    {
     "name": "stdout",
     "output_type": "stream",
     "text": [
      "['apple', 'strawberry', 'cherry']\n"
     ]
    }
   ],
   "source": [
    "thislist = [\"apple\", \"banana\", \"cherry\"]\n",
    "thislist[1] = \"strawberry\"\n",
    "print(thislist)"
   ]
  },
  {
   "cell_type": "code",
   "execution_count": 17,
   "id": "048e2cd6-49ea-447f-ad99-cdb8c5c2ee61",
   "metadata": {},
   "outputs": [
    {
     "name": "stdout",
     "output_type": "stream",
     "text": [
      "[12, 14, 'students', 16, 8, 9, -5, -3, 41, -9]\n"
     ]
    }
   ],
   "source": [
    "a = [12,14,15,16,8,9,-5,-3,41,-9]\n",
    "a[2] = \"students\"\n",
    "print(a)"
   ]
  },
  {
   "cell_type": "markdown",
   "id": "2fdddc70-a04e-418b-ba2e-f23ce1adf658",
   "metadata": {},
   "source": [
    "### change a range of item values"
   ]
  },
  {
   "cell_type": "code",
   "execution_count": 18,
   "id": "9516d078-09c7-4ae1-bd4d-18aa7092b8b0",
   "metadata": {},
   "outputs": [
    {
     "name": "stdout",
     "output_type": "stream",
     "text": [
      "[12, 14, 'books', 'pen', 'paper', 8, -9, 5, -3, 41, -9]\n"
     ]
    }
   ],
   "source": [
    "a = [12,14,15,16,8,-9,5,-3,41,-9]\n",
    "a[2:4]=[\"books\",\"pen\",\"paper\"]\n",
    "print(a)"
   ]
  },
  {
   "cell_type": "code",
   "execution_count": 19,
   "id": "4c0fb07c-85dc-4506-8345-867a560b6db3",
   "metadata": {},
   "outputs": [
    {
     "name": "stdout",
     "output_type": "stream",
     "text": [
      "[12, 14, 15, 78, 96, 25, -9]\n"
     ]
    }
   ],
   "source": [
    "a = [12,14,15,78,96,25]\n",
    "a.append(-9)\n",
    "print(a)"
   ]
  },
  {
   "cell_type": "code",
   "execution_count": 20,
   "id": "1ae40b95-02e2-44e7-9758-43a010f595b7",
   "metadata": {},
   "outputs": [
    {
     "name": "stdout",
     "output_type": "stream",
     "text": [
      "['apple', 'hello']\n"
     ]
    }
   ],
   "source": [
    "m = [\"apple\",\"student\",\"hello\"]\n",
    "m.remove(\"student\")\n",
    "print(m)"
   ]
  },
  {
   "cell_type": "code",
   "execution_count": 21,
   "id": "03c9dc61-090c-4ede-a9f9-e65a4619163d",
   "metadata": {},
   "outputs": [
    {
     "name": "stdout",
     "output_type": "stream",
     "text": [
      "['data', 'python', 5, 4, 3, 2, 1]\n"
     ]
    }
   ],
   "source": [
    "mylist = [1,2,3,4,5,\"python\",\"data\"]\n",
    "mylist.reverse()\n",
    "print(mylist)"
   ]
  },
  {
   "cell_type": "code",
   "execution_count": 23,
   "id": "a3463ade-4ab7-4f81-a404-715c10b43c61",
   "metadata": {},
   "outputs": [
    {
     "name": "stdout",
     "output_type": "stream",
     "text": [
      "13\n",
      "the sum of a list is 475\n"
     ]
    }
   ],
   "source": [
    "l = [14,15,12,78,-9,23,-8,52,74,89,25,102,8]\n",
    "print(len(l))\n",
    "a = 0\n",
    "for i in range (13):\n",
    "    a = a+l[i]\n",
    "    i = i+1\n",
    "print(\"the sum of a list is\", a)"
   ]
  },
  {
   "cell_type": "markdown",
   "id": "01a938e6-e27b-4c66-8771-3ba4adb15bea",
   "metadata": {},
   "source": [
    "### multiply all the numbers of a list"
   ]
  },
  {
   "cell_type": "code",
   "execution_count": 24,
   "id": "31edc8a9-d8cd-45f3-8d1e-4751a108a76a",
   "metadata": {},
   "outputs": [],
   "source": [
    "a = [1,2,3,4,5,6,7,8,9,10]"
   ]
  },
  {
   "cell_type": "code",
   "execution_count": null,
   "id": "b2b5b5e8-098a-4a73-8f6c-39afc34a0073",
   "metadata": {},
   "outputs": [],
   "source": []
  }
 ],
 "metadata": {
  "kernelspec": {
   "display_name": "Python 3 (ipykernel)",
   "language": "python",
   "name": "python3"
  },
  "language_info": {
   "codemirror_mode": {
    "name": "ipython",
    "version": 3
   },
   "file_extension": ".py",
   "mimetype": "text/x-python",
   "name": "python",
   "nbconvert_exporter": "python",
   "pygments_lexer": "ipython3",
   "version": "3.12.7"
  }
 },
 "nbformat": 4,
 "nbformat_minor": 5
}
