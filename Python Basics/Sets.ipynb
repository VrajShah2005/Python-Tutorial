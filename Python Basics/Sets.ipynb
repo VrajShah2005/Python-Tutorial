{
 "cells": [
  {
   "cell_type": "markdown",
   "id": "f5876f46-9aba-4943-99a4-f38cf295918d",
   "metadata": {},
   "source": [
    "# Sets"
   ]
  },
  {
   "cell_type": "markdown",
   "id": "d52afb44-b0c2-4578-808f-7688c9d93968",
   "metadata": {},
   "source": [
    "### creating a set"
   ]
  },
  {
   "cell_type": "code",
   "execution_count": 1,
   "id": "a90dd7cf-03ba-482c-9b72-24123c5cb2ae",
   "metadata": {},
   "outputs": [
    {
     "name": "stdout",
     "output_type": "stream",
     "text": [
      "{'animals', 'ball', 'cat'}\n",
      "<class 'set'>\n"
     ]
    }
   ],
   "source": [
    "a = {\"animals\", \"ball\", \"cat\"}\n",
    "print(a)\n",
    "print(type(a))"
   ]
  },
  {
   "cell_type": "markdown",
   "id": "83466631-dbdb-4c52-bf1b-5c89f10b8fdd",
   "metadata": {},
   "source": [
    "### Duplicates not allowed"
   ]
  },
  {
   "cell_type": "code",
   "execution_count": 2,
   "id": "f60be7c2-2ba6-4c12-9bcd-c069c5346b22",
   "metadata": {},
   "outputs": [
    {
     "name": "stdout",
     "output_type": "stream",
     "text": [
      "['animals', 'ball', 'cat', 'animals', 'ball', 'ball']\n"
     ]
    }
   ],
   "source": [
    "a = [\"animals\", \"ball\", \"cat\", \"animals\", \"ball\", \"ball\"]\n",
    "print(a)"
   ]
  },
  {
   "cell_type": "markdown",
   "id": "7ec47324-ff52-404a-8477-1e9c041a6442",
   "metadata": {},
   "source": [
    "### True and 1 is consider the same value"
   ]
  },
  {
   "cell_type": "code",
   "execution_count": 3,
   "id": "770de675-dc19-48e5-a34a-4da082bdbf9a",
   "metadata": {},
   "outputs": [
    {
     "name": "stdout",
     "output_type": "stream",
     "text": [
      "{1, 2, 3, 'animals', 'ball', 'cat'}\n"
     ]
    }
   ],
   "source": [
    "a = {\"animals\", \"ball\", \"cat\", \"animals\", \"ball\", \"ball\", 1,2,3, True}\n",
    "print(a)"
   ]
  },
  {
   "cell_type": "markdown",
   "id": "92ec501a-172c-4b82-aacc-9bdd50cd9fe8",
   "metadata": {},
   "source": [
    "### Get the length of a set"
   ]
  },
  {
   "cell_type": "code",
   "execution_count": 4,
   "id": "4facb68f-f1b7-4491-a3cf-00842ee94920",
   "metadata": {},
   "outputs": [
    {
     "name": "stdout",
     "output_type": "stream",
     "text": [
      "{1, 2, 3, 'animals', 'ball', 'cat'}\n",
      "6\n"
     ]
    }
   ],
   "source": [
    "a = {\"animals\", \"ball\", \"cat\", \"animals\", \"ball\", 1,2,3, True}\n",
    "print(a)\n",
    "print(len(a))"
   ]
  },
  {
   "cell_type": "markdown",
   "id": "c010f250-7688-4d28-ba18-149baf960b46",
   "metadata": {},
   "source": [
    "### Set Items - Data Types"
   ]
  },
  {
   "cell_type": "code",
   "execution_count": 5,
   "id": "e25ae82f-0a52-4e27-9b75-dbed95aed751",
   "metadata": {},
   "outputs": [
    {
     "name": "stdout",
     "output_type": "stream",
     "text": [
      "{1, 2, 3, 4} {1.2, 2.3, 3.1, 4.5} {'a', 'b', 'c'} {False, True}\n"
     ]
    }
   ],
   "source": [
    "x1 = {1,2,3,4}\n",
    "x2 = {1.2,2.3,3.1,4.5}\n",
    "x3 = {\"a\", \"b\", \"c\"}\n",
    "x4 = {True, False, True}\n",
    "print(x1,x2,x3,x4)"
   ]
  },
  {
   "cell_type": "code",
   "execution_count": 6,
   "id": "c0853e9a-88ef-4248-a5ba-e39aedbb6fce",
   "metadata": {},
   "outputs": [
    {
     "name": "stdout",
     "output_type": "stream",
     "text": [
      "{1, 2, 2.1, 2.3, 'apple', -5, (6+3j)}\n"
     ]
    }
   ],
   "source": [
    "m = {1,2,-5,2.1,2.3,6+3j,\"apple\",True}\n",
    "print(m)"
   ]
  },
  {
   "cell_type": "code",
   "execution_count": 7,
   "id": "b43a7efb-6662-4481-98fa-fbef783b0b71",
   "metadata": {},
   "outputs": [
    {
     "name": "stdout",
     "output_type": "stream",
     "text": [
      "{(1, 2, 3, 4)}\n"
     ]
    }
   ],
   "source": [
    "x5 = {(1,2,3,4)}\n",
    "print(x5)"
   ]
  },
  {
   "cell_type": "markdown",
   "id": "a0dac2a4-6c0a-48c1-a42c-4601df07da88",
   "metadata": {},
   "source": [
    "### The Set() Constructor"
   ]
  },
  {
   "cell_type": "code",
   "execution_count": 8,
   "id": "ffe76057-16ae-44de-9dff-edad4cd7979f",
   "metadata": {},
   "outputs": [
    {
     "name": "stdout",
     "output_type": "stream",
     "text": [
      "{'gamma', 'beta', 'alpha'}\n",
      "<class 'set'>\n"
     ]
    }
   ],
   "source": [
    "thisset = set((\"alpha\", \"beta\", \"gamma\"))\n",
    "print(thisset)\n",
    "print(type(thisset))"
   ]
  },
  {
   "cell_type": "markdown",
   "id": "4e5d7f52-90f8-4196-b581-e710d2f53ff6",
   "metadata": {},
   "source": [
    "### creating empty set"
   ]
  },
  {
   "cell_type": "code",
   "execution_count": 9,
   "id": "3efa9db1-88d5-4eaa-bb8d-fdbfbc5c2a0d",
   "metadata": {},
   "outputs": [
    {
     "name": "stdout",
     "output_type": "stream",
     "text": [
      "{}\n",
      "<class 'dict'>\n"
     ]
    }
   ],
   "source": [
    "a = {}\n",
    "print(a)\n",
    "print(type(a))"
   ]
  },
  {
   "cell_type": "code",
   "execution_count": 10,
   "id": "f2096f28-83e0-49d5-a19c-d2a2977501b9",
   "metadata": {},
   "outputs": [
    {
     "name": "stdout",
     "output_type": "stream",
     "text": [
      "set()\n",
      "<class 'set'>\n"
     ]
    }
   ],
   "source": [
    "empty = set()\n",
    "print(empty)\n",
    "print(type(empty))"
   ]
  },
  {
   "cell_type": "markdown",
   "id": "6401b007-a4c2-4bf4-a81f-7a0f9d26bcd1",
   "metadata": {},
   "source": [
    "### Access Items"
   ]
  },
  {
   "cell_type": "code",
   "execution_count": 11,
   "id": "6b9e2cba-d6a9-4d02-adb0-d8d4f11fdf11",
   "metadata": {},
   "outputs": [
    {
     "name": "stdout",
     "output_type": "stream",
     "text": [
      "d\n",
      "a\n",
      "b\n",
      "c\n"
     ]
    }
   ],
   "source": [
    "a = {\"a\", \"b\", \"c\", \"d\"}\n",
    "for x in a:\n",
    "    print(x)"
   ]
  },
  {
   "cell_type": "markdown",
   "id": "e631a338-893f-4e6b-a563-4767dd55378d",
   "metadata": {},
   "source": [
    "### Check if item is present in the set"
   ]
  },
  {
   "cell_type": "code",
   "execution_count": 12,
   "id": "508b2b5f-b4a0-4cf7-b991-f6dcf1eae480",
   "metadata": {},
   "outputs": [
    {
     "name": "stdout",
     "output_type": "stream",
     "text": [
      "True\n"
     ]
    }
   ],
   "source": [
    "a = (\"data\", \"python\", \"code\")\n",
    "print(\"code\" in a)"
   ]
  },
  {
   "cell_type": "code",
   "execution_count": 13,
   "id": "57cb99c7-f5e4-495f-a188-d18f84c654f1",
   "metadata": {},
   "outputs": [
    {
     "name": "stdout",
     "output_type": "stream",
     "text": [
      "False\n"
     ]
    }
   ],
   "source": [
    "a = (\"data\", \"python\", \"code\")\n",
    "print(\"analyst\" in a)"
   ]
  },
  {
   "cell_type": "markdown",
   "id": "755c0e24-369a-4933-94c0-d0c90c30f823",
   "metadata": {},
   "source": [
    "### Add Items"
   ]
  },
  {
   "cell_type": "code",
   "execution_count": 14,
   "id": "b6d0431e-f4b9-4468-914e-998bd9682fe7",
   "metadata": {},
   "outputs": [
    {
     "name": "stdout",
     "output_type": "stream",
     "text": [
      "{100, 'c', 'b', 'd', 'a'}\n"
     ]
    }
   ],
   "source": [
    "a = {\"a\", \"b\", \"c\", \"d\"}\n",
    "a.add(100)\n",
    "print(a)"
   ]
  },
  {
   "cell_type": "code",
   "execution_count": 15,
   "id": "4ea94852-593d-4668-ade5-ed357eba262d",
   "metadata": {},
   "outputs": [
    {
     "name": "stdout",
     "output_type": "stream",
     "text": [
      "{'data', 70, 'python', 40, 10, 50, 20, 'code', 60, 30}\n"
     ]
    }
   ],
   "source": [
    "x = {\"data\", \"python\", \"code\"}\n",
    "y = [10,20,30,40,50,60,70]\n",
    "x.update(y)\n",
    "print(x)"
   ]
  },
  {
   "cell_type": "markdown",
   "id": "9a1662c4-66c6-4d30-9c8c-903be2efbb17",
   "metadata": {},
   "source": [
    "### Remove Set items"
   ]
  },
  {
   "cell_type": "code",
   "execution_count": 16,
   "id": "aeec05aa-feac-4f86-aff5-1491f1cdf7cc",
   "metadata": {},
   "outputs": [
    {
     "name": "stdout",
     "output_type": "stream",
     "text": [
      "{'data', 70, 'python', 10, 50, 20, 'code', 60, 30}\n"
     ]
    }
   ],
   "source": [
    "n = {70,40,'code',10,'python',50,20,'data',60,30}\n",
    "n.remove(40)\n",
    "print(n)"
   ]
  },
  {
   "cell_type": "code",
   "execution_count": 17,
   "id": "47b250d3-b2dc-4996-b1d7-1dfb9c9e0c34",
   "metadata": {},
   "outputs": [
    {
     "name": "stdout",
     "output_type": "stream",
     "text": [
      "{70, 40, 'python', 10, 50, 20, 'code', 60, 30}\n"
     ]
    }
   ],
   "source": [
    "m = {70,40,'code',10,'python',50,20,'data',60,30}\n",
    "x = m.pop()\n",
    "print(m)"
   ]
  },
  {
   "cell_type": "code",
   "execution_count": 18,
   "id": "7b327258-5801-4f5b-b1bf-55d2706b3383",
   "metadata": {},
   "outputs": [
    {
     "name": "stdout",
     "output_type": "stream",
     "text": [
      "set()\n"
     ]
    }
   ],
   "source": [
    "m = {70,40,'code',10,'python',50,20,'data',60,30}\n",
    "m.clear()\n",
    "print(m)"
   ]
  },
  {
   "cell_type": "markdown",
   "id": "3ac71591-2f88-4e37-9236-fe1088c1ad89",
   "metadata": {},
   "source": [
    "### Join Two Sets"
   ]
  },
  {
   "cell_type": "code",
   "execution_count": 19,
   "id": "99e1476d-c6b3-49c0-95b9-756aa2280f76",
   "metadata": {},
   "outputs": [
    {
     "name": "stdout",
     "output_type": "stream",
     "text": [
      "{1, 2, 3, 'c', 'a', 'b'}\n"
     ]
    }
   ],
   "source": [
    "x = {\"a\", \"b\", \"c\"}\n",
    "y = {1,2,3}\n",
    "z = x.union(y)\n",
    "print(z)"
   ]
  },
  {
   "cell_type": "markdown",
   "id": "62393370-9a5a-4cce-9a24-aad56c555018",
   "metadata": {},
   "source": [
    "### Write a program to find max and min values"
   ]
  },
  {
   "cell_type": "code",
   "execution_count": 20,
   "id": "e2530c08-ca91-40f3-bdff-c51e00c55ab3",
   "metadata": {},
   "outputs": [
    {
     "name": "stdout",
     "output_type": "stream",
     "text": [
      "Original set elements\n",
      "{2, 20, 5, 10, 15}\n",
      "Maximum value of the set is\n",
      "20\n",
      "Minimum value of set is\n",
      "2\n"
     ]
    }
   ],
   "source": [
    "setn = {5,10,15,2,20}\n",
    "print(\"Original set elements\")\n",
    "print(setn)\n",
    "print(\"Maximum value of the set is\")\n",
    "print(max(setn))\n",
    "print(\"Minimum value of set is\")\n",
    "print(min(setn))"
   ]
  },
  {
   "cell_type": "markdown",
   "id": "257a6cc0-713d-45eb-93dd-b18278987f83",
   "metadata": {},
   "source": [
    "### Return a new set of identical items from two sets"
   ]
  },
  {
   "cell_type": "code",
   "execution_count": 21,
   "id": "6dc33be8-f903-4434-9493-ade6d00f5246",
   "metadata": {},
   "outputs": [
    {
     "name": "stdout",
     "output_type": "stream",
     "text": [
      "{40, 50, 30}\n"
     ]
    }
   ],
   "source": [
    "set1 = {10,20,30,40,50}\n",
    "set2 = {30,40,50,60,70}\n",
    "print(set1.intersection(set2))"
   ]
  }
 ],
 "metadata": {
  "kernelspec": {
   "display_name": "Python 3 (ipykernel)",
   "language": "python",
   "name": "python3"
  },
  "language_info": {
   "codemirror_mode": {
    "name": "ipython",
    "version": 3
   },
   "file_extension": ".py",
   "mimetype": "text/x-python",
   "name": "python",
   "nbconvert_exporter": "python",
   "pygments_lexer": "ipython3",
   "version": "3.12.7"
  }
 },
 "nbformat": 4,
 "nbformat_minor": 5
}
