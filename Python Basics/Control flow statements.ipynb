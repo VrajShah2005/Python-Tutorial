{
 "cells": [
  {
   "cell_type": "markdown",
   "id": "9ad18a26-7cd5-45a9-9ed1-7ac99ea154da",
   "metadata": {},
   "source": [
    "# Control flow statements"
   ]
  },
  {
   "cell_type": "markdown",
   "id": "8d06cd6a-3211-4975-b55d-7110bb41d1b6",
   "metadata": {},
   "source": [
    "### if condition"
   ]
  },
  {
   "cell_type": "code",
   "execution_count": 3,
   "id": "c76f2e46-8a2f-4caf-ba3c-7880e0e199f1",
   "metadata": {},
   "outputs": [
    {
     "name": "stdin",
     "output_type": "stream",
     "text": [
      "Enter the name of a student vraj\n",
      "enter the marks scored in english 81\n",
      "enter the marks scored in hindi 74\n",
      "enter the marks scored in maths 83\n",
      "enter the marks scored in science 78\n",
      "enter the marks scored in social science 64\n"
     ]
    },
    {
     "name": "stdout",
     "output_type": "stream",
     "text": [
      "the percentage scored by student is 76.0\n"
     ]
    }
   ],
   "source": [
    "x = input(\"Enter the name of a student\")\n",
    "a = int(input(\"enter the marks scored in english\"))\n",
    "b = int(input(\"enter the marks scored in hindi\"))\n",
    "c = int(input(\"enter the marks scored in maths\"))\n",
    "d = int(input(\"enter the marks scored in science\"))\n",
    "e = int(input(\"enter the marks scored in social science\"))\n",
    "n = ((a+b+c+d+e)/500)*100\n",
    "print(\"the percentage scored by student is\",n)"
   ]
  },
  {
   "cell_type": "code",
   "execution_count": 6,
   "id": "8e48dbf5-469b-40b8-bb6e-8c4dfd190b54",
   "metadata": {},
   "outputs": [
    {
     "name": "stdin",
     "output_type": "stream",
     "text": [
      "enter the percentage scored by a student 76\n"
     ]
    },
    {
     "name": "stdout",
     "output_type": "stream",
     "text": [
      "B grade\n"
     ]
    }
   ],
   "source": [
    "a = int(input(\"enter the percentage scored by a student\"))\n",
    "if a>=90:\n",
    "        print(\"A grade\")\n",
    "if a>=75 and a<90:\n",
    "        print(\"B grade\")\n",
    "if a>=65 and a<75:\n",
    "        print(\"c grade\")"
   ]
  },
  {
   "cell_type": "markdown",
   "id": "d7ed3458-fb34-462a-97a0-0398a917e904",
   "metadata": {},
   "source": [
    "### if else statement"
   ]
  },
  {
   "cell_type": "code",
   "execution_count": 10,
   "id": "2603debf-37b2-4b4d-af9d-e7deeebd8857",
   "metadata": {},
   "outputs": [
    {
     "name": "stdin",
     "output_type": "stream",
     "text": [
      "enter the number 72\n"
     ]
    },
    {
     "name": "stdout",
     "output_type": "stream",
     "text": [
      "positive number\n"
     ]
    }
   ],
   "source": [
    "a = int(input(\"enter the number\"))\n",
    "if a>0:\n",
    "    print(\"positive number\")\n",
    "else:\n",
    "    print(\"negative number\")"
   ]
  },
  {
   "cell_type": "markdown",
   "id": "28a8fae8-0034-47ef-bec9-8ff39f81d407",
   "metadata": {},
   "source": [
    "### if-elif-else"
   ]
  },
  {
   "cell_type": "code",
   "execution_count": 2,
   "id": "2dd94eb3-4d44-47b6-ab76-c7b6b487da78",
   "metadata": {},
   "outputs": [
    {
     "name": "stdin",
     "output_type": "stream",
     "text": [
      "enter the city Agra\n"
     ]
    },
    {
     "name": "stdout",
     "output_type": "stream",
     "text": [
      "The monument in Agra is Taj Mahal\n"
     ]
    }
   ],
   "source": [
    "city = input(\"enter the city\")\n",
    "if city == \"Delhi\":\n",
    "    print(\"The monument in Delhi is Red fort\")\n",
    "elif city == \"Agra\":\n",
    "    print(\"The monument in Agra is Taj Mahal\")\n",
    "elif city == \"Jaipur\":\n",
    "    print(\"The monument in Jaipur is Jal Mahal\")\n",
    "elif city == \"Orrisa\":\n",
    "    print(\"The monument in Orrsia is Konark Temple\")\n",
    "elif city == \"Hyderabad\":\n",
    "    print(\"The monument in Hyderabad is Charminar\")\n",
    "else:\n",
    "    print(\"No record found\")"
   ]
  },
  {
   "cell_type": "code",
   "execution_count": null,
   "id": "3621c855-850c-47e1-b7b7-e42df0d9efac",
   "metadata": {},
   "outputs": [],
   "source": []
  }
 ],
 "metadata": {
  "kernelspec": {
   "display_name": "Python 3 (ipykernel)",
   "language": "python",
   "name": "python3"
  },
  "language_info": {
   "codemirror_mode": {
    "name": "ipython",
    "version": 3
   },
   "file_extension": ".py",
   "mimetype": "text/x-python",
   "name": "python",
   "nbconvert_exporter": "python",
   "pygments_lexer": "ipython3",
   "version": "3.12.7"
  }
 },
 "nbformat": 4,
 "nbformat_minor": 5
}
