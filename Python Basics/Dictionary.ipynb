{
 "cells": [
  {
   "cell_type": "markdown",
   "id": "4bfff595-5c2c-426f-937e-fe877608e824",
   "metadata": {},
   "source": [
    "# Dictionary"
   ]
  },
  {
   "cell_type": "markdown",
   "id": "c1eaf73a-da2b-4333-b8e2-9d32b2310254",
   "metadata": {},
   "source": [
    "### creating a dictionary"
   ]
  },
  {
   "cell_type": "code",
   "execution_count": 1,
   "id": "06dd89a6-285f-40d7-89a3-445516bf5b3f",
   "metadata": {},
   "outputs": [],
   "source": [
    "a = {\n",
    "    \"ID\" : \"123ab\",\n",
    "    \"color\" : \"Black\",\n",
    "    \"year\" : 1964\n",
    "}"
   ]
  },
  {
   "cell_type": "code",
   "execution_count": 3,
   "id": "00c6fe29-e89b-4aeb-9a8b-921ae27d628d",
   "metadata": {},
   "outputs": [
    {
     "name": "stdout",
     "output_type": "stream",
     "text": [
      "{'ID': '123ab', 'color': 'Black', 'year': 1964}\n",
      "<class 'dict'>\n"
     ]
    }
   ],
   "source": [
    "print(a)\n",
    "print(type(a))"
   ]
  },
  {
   "cell_type": "code",
   "execution_count": 4,
   "id": "9447e653-a666-4e2f-8994-cced87e362f6",
   "metadata": {},
   "outputs": [],
   "source": [
    "a = {\n",
    "    \"ID\" : \"123ab\",\n",
    "    \"color\" : \"Black\",\n",
    "    \"year\" : 1964\n",
    "}"
   ]
  },
  {
   "cell_type": "code",
   "execution_count": 5,
   "id": "553fabbf-c8d2-4cd4-81bf-64b3ddbe5e54",
   "metadata": {},
   "outputs": [
    {
     "name": "stdout",
     "output_type": "stream",
     "text": [
      "Black\n"
     ]
    }
   ],
   "source": [
    "print(a[\"color\"])"
   ]
  },
  {
   "cell_type": "code",
   "execution_count": 7,
   "id": "89a0a683-293b-4295-812c-da904b92d7a0",
   "metadata": {},
   "outputs": [],
   "source": [
    "a = {\n",
    "    \"ID\" : \"123ab\",\n",
    "    \"color\" : \"Black\",\n",
    "    \"year\" : 1964,\n",
    "    \"year\" : 2000\n",
    "}"
   ]
  },
  {
   "cell_type": "code",
   "execution_count": 8,
   "id": "19948ebb-f5e9-4e16-bff2-9a9c009a4c92",
   "metadata": {},
   "outputs": [
    {
     "name": "stdout",
     "output_type": "stream",
     "text": [
      "{'ID': '123ab', 'color': 'Black', 'year': 2000}\n"
     ]
    }
   ],
   "source": [
    "print(a)"
   ]
  },
  {
   "cell_type": "markdown",
   "id": "ac16feef-8081-4d7c-8d41-4bbca57100a0",
   "metadata": {},
   "source": [
    "### dictionary length"
   ]
  },
  {
   "cell_type": "code",
   "execution_count": null,
   "id": "f5d54552-7f4c-4f8b-ab4d-a1cf9a01f7b4",
   "metadata": {},
   "outputs": [],
   "source": [
    "a = {\n",
    "    \"ID\" : \"123ab\",\n",
    "    \"color\" : \"Black\",\n",
    "    \"year\" : 1964\n",
    "}"
   ]
  },
  {
   "cell_type": "code",
   "execution_count": 9,
   "id": "d030b54f-6e1a-4f6f-84fc-5c6ad6e5319d",
   "metadata": {},
   "outputs": [
    {
     "name": "stdout",
     "output_type": "stream",
     "text": [
      "3\n"
     ]
    }
   ],
   "source": [
    "print(len(a))"
   ]
  },
  {
   "cell_type": "code",
   "execution_count": 11,
   "id": "a884d4aa-745f-4601-8530-20ce6e0f36e3",
   "metadata": {},
   "outputs": [
    {
     "name": "stdout",
     "output_type": "stream",
     "text": [
      "{'ID': '123ab', 'color': 'Black', 'year': 1964, 'a': [1, 2, 3, 4, 5], 'b': [2.2, 2.3, 2.4, 5.2], 'c': False}\n"
     ]
    }
   ],
   "source": [
    "dict = {\n",
    "    \"ID\" : \"123ab\",\n",
    "    \"color\" : \"Black\",\n",
    "    \"year\" : 1964,\n",
    "    'a' : [1,2,3,4,5],\n",
    "    'b' : [2.2,2.3,2.4,5.2],\n",
    "    'c' : False\n",
    "}\n",
    "print(dict)"
   ]
  },
  {
   "cell_type": "code",
   "execution_count": 13,
   "id": "1e4f096f-8b57-452b-9341-f0b2155eb48e",
   "metadata": {},
   "outputs": [
    {
     "name": "stdout",
     "output_type": "stream",
     "text": [
      "vraj\n"
     ]
    }
   ],
   "source": [
    "a = {\"name\" : \"vraj\", \"age\" : \"19\", \"country\" : \"india\"}\n",
    "print(a['name'])"
   ]
  },
  {
   "cell_type": "code",
   "execution_count": 14,
   "id": "4b96ae42-cc94-400c-ad90-1597a1ff30b4",
   "metadata": {},
   "outputs": [
    {
     "name": "stdout",
     "output_type": "stream",
     "text": [
      "vraj\n"
     ]
    }
   ],
   "source": [
    "a = {\"name\" : \"vraj\", \"age\" : \"19\", \"country\" : \"india\"}\n",
    "print(a.get('name'))"
   ]
  },
  {
   "cell_type": "code",
   "execution_count": 15,
   "id": "9e3c8722-7c3f-4085-89df-a7ca5370c11f",
   "metadata": {},
   "outputs": [],
   "source": [
    "a = {\"name\" : \"vraj\", \"age\" : \"19\", \"country\" : \"india\"}"
   ]
  },
  {
   "cell_type": "code",
   "execution_count": 17,
   "id": "dce3b10b-b142-4335-9b41-e2ae9614f677",
   "metadata": {},
   "outputs": [],
   "source": [
    "x = a.keys()"
   ]
  },
  {
   "cell_type": "code",
   "execution_count": 18,
   "id": "26186b82-8f2e-464f-ad7d-2fd9ac9bad79",
   "metadata": {},
   "outputs": [
    {
     "data": {
      "text/plain": [
       "dict_keys(['name', 'age', 'country'])"
      ]
     },
     "execution_count": 18,
     "metadata": {},
     "output_type": "execute_result"
    }
   ],
   "source": [
    "x"
   ]
  },
  {
   "cell_type": "code",
   "execution_count": 19,
   "id": "c0ba328e-a9c9-42eb-9ca2-fdcbed4c38c2",
   "metadata": {},
   "outputs": [],
   "source": [
    "a = {\"name\" : \"vraj\", \"age\" : \"19\", \"country\" : \"india\"}"
   ]
  },
  {
   "cell_type": "code",
   "execution_count": 20,
   "id": "4846b375-12c1-4e8a-a17f-bc7ae55eba61",
   "metadata": {},
   "outputs": [],
   "source": [
    "y = a.values()"
   ]
  },
  {
   "cell_type": "code",
   "execution_count": 21,
   "id": "212a45b3-2bab-4528-a622-9680b34059b8",
   "metadata": {},
   "outputs": [
    {
     "data": {
      "text/plain": [
       "dict_values(['vraj', '19', 'india'])"
      ]
     },
     "execution_count": 21,
     "metadata": {},
     "output_type": "execute_result"
    }
   ],
   "source": [
    "y"
   ]
  },
  {
   "cell_type": "code",
   "execution_count": 24,
   "id": "7d92461a-174a-4034-a4c0-1e2ecc402bda",
   "metadata": {},
   "outputs": [
    {
     "name": "stdout",
     "output_type": "stream",
     "text": [
      "{'name': 'vraj', 'age': 20, 'country': 'india'}\n"
     ]
    }
   ],
   "source": [
    "a = {\"name\" : \"vraj\",\n",
    "     \"age\" : \"19\",\n",
    "     \"country\" : \"india\"}\n",
    "a['age'] = 20\n",
    "print(a)"
   ]
  },
  {
   "cell_type": "code",
   "execution_count": 25,
   "id": "5d4308b1-4355-4120-9d0d-7eed4fe0cb66",
   "metadata": {},
   "outputs": [
    {
     "name": "stdout",
     "output_type": "stream",
     "text": [
      "{'name': 'vraj', 'age': '19', 'country': 'india', 'gender': 'male', 'mail id': 'vrajshah959@gmail.com'}\n"
     ]
    }
   ],
   "source": [
    "a = {\"name\" : \"vraj\",\n",
    "     \"age\" : \"19\",\n",
    "     \"country\" : \"india\", \"gender\" : \"male\"}\n",
    "a.update({\"mail id\" : \"vrajshah959@gmail.com\"})\n",
    "print(a)"
   ]
  },
  {
   "cell_type": "code",
   "execution_count": 26,
   "id": "19fd8f3b-41b5-42e2-8bc9-0c6cec5a2cae",
   "metadata": {},
   "outputs": [
    {
     "name": "stdout",
     "output_type": "stream",
     "text": [
      "{'name': 'vraj', 'country': 'india', 'gender': 'male'}\n"
     ]
    }
   ],
   "source": [
    "a = {\"name\" : \"vraj\",\n",
    "     \"age\" : \"19\",\n",
    "     \"country\" : \"india\", \"gender\" : \"male\"}\n",
    "a.pop(\"age\")\n",
    "print(a)"
   ]
  },
  {
   "cell_type": "code",
   "execution_count": 28,
   "id": "8b6cc9dd-fc23-4e4a-8a92-5e8892561ded",
   "metadata": {},
   "outputs": [
    {
     "name": "stdout",
     "output_type": "stream",
     "text": [
      "{'name': 'vraj', 'age': '19', 'country': 'india', 'gender': 'male'}\n",
      "<class 'dict'>\n"
     ]
    }
   ],
   "source": [
    "a = {\"name\" : \"vraj\",\n",
    "     \"age\" : \"19\",\n",
    "     \"country\" : \"india\", \"gender\" : \"male\"}\n",
    "print(a)\n",
    "print(type(a))"
   ]
  },
  {
   "cell_type": "code",
   "execution_count": 29,
   "id": "b1c08d51-5e26-444e-b3d8-446c9b53eaaa",
   "metadata": {},
   "outputs": [
    {
     "name": "stdout",
     "output_type": "stream",
     "text": [
      "{1: 10, 2: 20, 3: 30, 4: 40, 5: 50, 6: 60}\n"
     ]
    }
   ],
   "source": [
    "dict1 = {1:10, 2:20}\n",
    "dict2 = {3:30, 4:40}\n",
    "dict3 = {5:50, 6:60}\n",
    "dict4 = {}\n",
    "for d in (dict1, dict2, dict3): dict4.update(d)\n",
    "print(dict4)"
   ]
  }
 ],
 "metadata": {
  "kernelspec": {
   "display_name": "Python 3 (ipykernel)",
   "language": "python",
   "name": "python3"
  },
  "language_info": {
   "codemirror_mode": {
    "name": "ipython",
    "version": 3
   },
   "file_extension": ".py",
   "mimetype": "text/x-python",
   "name": "python",
   "nbconvert_exporter": "python",
   "pygments_lexer": "ipython3",
   "version": "3.12.7"
  }
 },
 "nbformat": 4,
 "nbformat_minor": 5
}
