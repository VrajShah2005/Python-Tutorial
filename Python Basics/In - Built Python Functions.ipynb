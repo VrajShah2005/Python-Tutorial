{
 "cells": [
  {
   "cell_type": "markdown",
   "id": "836ced95-f625-49be-909b-8af99f0ca007",
   "metadata": {},
   "source": [
    "# In - Built Python Functions"
   ]
  },
  {
   "cell_type": "markdown",
   "id": "e3e36d53-4279-4b9a-af93-5d7842dd4357",
   "metadata": {},
   "source": [
    "### Types of Python Functions\n",
    "1. Built-in Functions in Python\n",
    "2. Python Recursive Functions\n",
    "3. Python Lambda Function\n",
    "4. User-defined functions in Python"
   ]
  },
  {
   "cell_type": "markdown",
   "id": "393029d5-29db-482a-a340-e453838707cb",
   "metadata": {},
   "source": [
    "### built in functions"
   ]
  },
  {
   "cell_type": "markdown",
   "id": "cf6c33af-d55c-44f7-9be5-88e72775d99d",
   "metadata": {},
   "source": [
    "### abs() function"
   ]
  },
  {
   "cell_type": "code",
   "execution_count": 1,
   "id": "766ac4c4-4a66-4171-9ea2-012bc8633754",
   "metadata": {},
   "outputs": [
    {
     "name": "stdout",
     "output_type": "stream",
     "text": [
      "7.25\n"
     ]
    }
   ],
   "source": [
    "x = abs(-7.25)\n",
    "print(x)"
   ]
  },
  {
   "cell_type": "code",
   "execution_count": 2,
   "id": "20d22839-a180-4a4f-88fe-4e6dc9196bc2",
   "metadata": {},
   "outputs": [
    {
     "name": "stdout",
     "output_type": "stream",
     "text": [
      "8\n"
     ]
    }
   ],
   "source": [
    "y = abs(-8)\n",
    "print(y)"
   ]
  },
  {
   "cell_type": "code",
   "execution_count": 4,
   "id": "0b1c0caf-9b25-4c56-87e9-caff4019f549",
   "metadata": {},
   "outputs": [
    {
     "name": "stdout",
     "output_type": "stream",
     "text": [
      "5.830951894845301\n"
     ]
    }
   ],
   "source": [
    "z = abs(3+5j)\n",
    "print(z)"
   ]
  },
  {
   "cell_type": "markdown",
   "id": "067fe467-101c-4f9b-94a1-f99130a0315e",
   "metadata": {},
   "source": [
    "### Bin Function"
   ]
  },
  {
   "cell_type": "code",
   "execution_count": 5,
   "id": "baf237f0-a0b3-45cc-baa6-9740274c6b91",
   "metadata": {},
   "outputs": [
    {
     "name": "stdout",
     "output_type": "stream",
     "text": [
      "0b1101\n"
     ]
    }
   ],
   "source": [
    "x = bin(13)\n",
    "print(x)"
   ]
  },
  {
   "cell_type": "code",
   "execution_count": 6,
   "id": "543e1491-88b7-49f4-ae7b-e495b1b36e7e",
   "metadata": {},
   "outputs": [
    {
     "name": "stdout",
     "output_type": "stream",
     "text": [
      "0b100100\n"
     ]
    }
   ],
   "source": [
    "y = bin(36)\n",
    "print(y)"
   ]
  },
  {
   "cell_type": "markdown",
   "id": "fa7bd196-9f96-4214-96d7-b953c9736acd",
   "metadata": {},
   "source": [
    "### bytes function"
   ]
  },
  {
   "cell_type": "code",
   "execution_count": 7,
   "id": "4c6f4609-9830-4e77-9d25-c498a091ec77",
   "metadata": {},
   "outputs": [
    {
     "name": "stdout",
     "output_type": "stream",
     "text": [
      "b'\\x00\\x00\\x00\\x00'\n"
     ]
    }
   ],
   "source": [
    "x = bytes(4)\n",
    "print(x)"
   ]
  },
  {
   "cell_type": "markdown",
   "id": "815a8a81-cc0e-4a6a-96ce-f73e8fa4e9db",
   "metadata": {},
   "source": [
    "### chr() function"
   ]
  },
  {
   "cell_type": "code",
   "execution_count": 9,
   "id": "5924bef2-4c1b-410d-852a-badae5789107",
   "metadata": {},
   "outputs": [
    {
     "name": "stdout",
     "output_type": "stream",
     "text": [
      "a\n"
     ]
    }
   ],
   "source": [
    "x = chr(97)\n",
    "print(x)"
   ]
  },
  {
   "cell_type": "code",
   "execution_count": 10,
   "id": "aa255ded-1c3c-4b03-8804-0e5c1477766e",
   "metadata": {},
   "outputs": [
    {
     "name": "stdout",
     "output_type": "stream",
     "text": [
      "b\n"
     ]
    }
   ],
   "source": [
    "y = chr(98)\n",
    "print(y)"
   ]
  },
  {
   "cell_type": "markdown",
   "id": "66e00b31-e82c-4327-90d6-6866af6c7bc1",
   "metadata": {},
   "source": [
    "### complex function"
   ]
  },
  {
   "cell_type": "code",
   "execution_count": 11,
   "id": "e253d06c-e3e2-4b54-a82f-4c39d18f20ee",
   "metadata": {},
   "outputs": [
    {
     "name": "stdout",
     "output_type": "stream",
     "text": [
      "(3+5j)\n"
     ]
    }
   ],
   "source": [
    "x = complex(3,5)\n",
    "print(x)"
   ]
  },
  {
   "cell_type": "code",
   "execution_count": 12,
   "id": "44d0f5e1-f887-41b8-8eb1-954f276a83ee",
   "metadata": {},
   "outputs": [
    {
     "name": "stdout",
     "output_type": "stream",
     "text": [
      "(2.5+3.96j)\n"
     ]
    }
   ],
   "source": [
    "y = complex(2.5, 3.96)\n",
    "print(y)"
   ]
  },
  {
   "cell_type": "markdown",
   "id": "593cf961-f86e-40a3-aeae-53fc24981fdf",
   "metadata": {},
   "source": [
    "### float function"
   ]
  },
  {
   "cell_type": "code",
   "execution_count": 15,
   "id": "4953e0b8-b672-4b64-9b1e-7308fab9c53c",
   "metadata": {},
   "outputs": [
    {
     "name": "stdout",
     "output_type": "stream",
     "text": [
      "3.0\n"
     ]
    }
   ],
   "source": [
    "x = float(3)\n",
    "print(x)"
   ]
  },
  {
   "cell_type": "code",
   "execution_count": 16,
   "id": "c62b5dc7-c6a5-4783-a981-9589a42b487b",
   "metadata": {},
   "outputs": [
    {
     "name": "stdout",
     "output_type": "stream",
     "text": [
      "3.56\n"
     ]
    }
   ],
   "source": [
    "x = float(3.56)\n",
    "print(x)"
   ]
  },
  {
   "cell_type": "markdown",
   "id": "8033ba85-a563-4097-8cbc-84db73c82fe4",
   "metadata": {},
   "source": [
    "### int function"
   ]
  },
  {
   "cell_type": "code",
   "execution_count": 17,
   "id": "dedb3df7-7cd5-4f5a-9899-0d1ee13ba1e7",
   "metadata": {},
   "outputs": [
    {
     "name": "stdout",
     "output_type": "stream",
     "text": [
      "12\n"
     ]
    }
   ],
   "source": [
    "x = int(12.56)\n",
    "print(x)"
   ]
  },
  {
   "cell_type": "code",
   "execution_count": 19,
   "id": "dda6839e-b57c-4826-84d5-22671d1976ed",
   "metadata": {},
   "outputs": [
    {
     "name": "stdout",
     "output_type": "stream",
     "text": [
      "846\n"
     ]
    }
   ],
   "source": [
    "x = int(846.572)\n",
    "print(x)"
   ]
  },
  {
   "cell_type": "markdown",
   "id": "ac6fc7ee-71a2-4e95-9dcf-bf42805971d9",
   "metadata": {},
   "source": [
    "### str() function"
   ]
  },
  {
   "cell_type": "code",
   "execution_count": 20,
   "id": "5a38a4aa-1b1e-4348-82c9-dd2331abc6a4",
   "metadata": {},
   "outputs": [
    {
     "name": "stdout",
     "output_type": "stream",
     "text": [
      "2568\n",
      "<class 'str'>\n"
     ]
    }
   ],
   "source": [
    "a = str(\"2568\")\n",
    "print(a)\n",
    "print(type(a))"
   ]
  },
  {
   "cell_type": "code",
   "execution_count": 21,
   "id": "a87fe12f-067d-4bf4-a87d-ca84119d0afe",
   "metadata": {},
   "outputs": [
    {
     "name": "stdout",
     "output_type": "stream",
     "text": [
      "25.63\n",
      "<class 'str'>\n"
     ]
    }
   ],
   "source": [
    "a = str(25.63)\n",
    "print(a)\n",
    "print(type(a))"
   ]
  },
  {
   "cell_type": "markdown",
   "id": "177edd40-ed64-4100-99ca-597fdf2274c9",
   "metadata": {},
   "source": [
    "### input function"
   ]
  },
  {
   "cell_type": "code",
   "execution_count": 22,
   "id": "69a42c21-8378-4d05-98af-4f8e98bb22cc",
   "metadata": {},
   "outputs": [
    {
     "name": "stdin",
     "output_type": "stream",
     "text": [
      "enter your name vraj\n"
     ]
    },
    {
     "name": "stdout",
     "output_type": "stream",
     "text": [
      "vraj\n"
     ]
    }
   ],
   "source": [
    "x = input(\"enter your name\")\n",
    "print(x)"
   ]
  },
  {
   "cell_type": "code",
   "execution_count": 23,
   "id": "1b6a1011-1fa5-489c-b174-d9baef7c3cdd",
   "metadata": {},
   "outputs": [
    {
     "name": "stdin",
     "output_type": "stream",
     "text": [
      "enter your name vraj\n"
     ]
    },
    {
     "name": "stdout",
     "output_type": "stream",
     "text": [
      "hello vraj\n"
     ]
    }
   ],
   "source": [
    "x = input(\"enter your name\")\n",
    "print(\"hello\", x)"
   ]
  },
  {
   "cell_type": "code",
   "execution_count": 24,
   "id": "8d3df1e3-c0be-4890-addb-113a1a2c849e",
   "metadata": {},
   "outputs": [
    {
     "name": "stdin",
     "output_type": "stream",
     "text": [
      "enter your age 19\n"
     ]
    },
    {
     "name": "stdout",
     "output_type": "stream",
     "text": [
      "your age is 19\n"
     ]
    }
   ],
   "source": [
    "x = input(\"enter your age\")\n",
    "print(\"your age is\", x)"
   ]
  },
  {
   "cell_type": "code",
   "execution_count": null,
   "id": "c0c56078-3d4a-4324-9ec1-d07e85d18c9f",
   "metadata": {},
   "outputs": [],
   "source": [
    "x = input(\"enter your name\")\n",
    "print(\"hello\", x)\n",
    "y = input(\"enter your age\")\n",
    "print(\"your age is\", y)"
   ]
  }
 ],
 "metadata": {
  "kernelspec": {
   "display_name": "Python 3 (ipykernel)",
   "language": "python",
   "name": "python3"
  },
  "language_info": {
   "codemirror_mode": {
    "name": "ipython",
    "version": 3
   },
   "file_extension": ".py",
   "mimetype": "text/x-python",
   "name": "python",
   "nbconvert_exporter": "python",
   "pygments_lexer": "ipython3",
   "version": "3.12.7"
  }
 },
 "nbformat": 4,
 "nbformat_minor": 5
}
