{
 "cells": [
  {
   "cell_type": "markdown",
   "id": "65b97cd5-8141-463d-9eb7-4919bcd3549b",
   "metadata": {},
   "source": [
    "# User defined functions"
   ]
  },
  {
   "cell_type": "code",
   "execution_count": 2,
   "id": "58d07ef0-949f-405a-a2ef-a0e4edb2715e",
   "metadata": {},
   "outputs": [],
   "source": [
    "def my_function():\n",
    "    print(\"Hello Class\")"
   ]
  },
  {
   "cell_type": "markdown",
   "id": "e421e706-073d-418c-aba4-909a659b840f",
   "metadata": {},
   "source": [
    "### calling a function"
   ]
  },
  {
   "cell_type": "code",
   "execution_count": 3,
   "id": "7aa5c6d4-3488-4728-826e-fda5013a6d11",
   "metadata": {},
   "outputs": [
    {
     "name": "stdout",
     "output_type": "stream",
     "text": [
      "Hello Class\n"
     ]
    }
   ],
   "source": [
    "my_function()"
   ]
  },
  {
   "cell_type": "markdown",
   "id": "8e824426-762c-4ecb-9138-4a68a3e8fe90",
   "metadata": {},
   "source": [
    "### Making the result of a student"
   ]
  },
  {
   "cell_type": "code",
   "execution_count": 6,
   "id": "714b3eb0-c510-4969-a2fd-7b927bcbe74a",
   "metadata": {},
   "outputs": [],
   "source": [
    "def contact():\n",
    "    print(\"contact details of the school\")\n",
    "    print(\"Delhi public school\")\n",
    "    print(\"Bangalore Karnataka\")\n",
    "    print(\"7825821141\")\n",
    "    print(\"dps.contact@gmail.com\")"
   ]
  },
  {
   "cell_type": "code",
   "execution_count": 7,
   "id": "a44ef373-cea3-408c-9f32-69147551f449",
   "metadata": {},
   "outputs": [
    {
     "name": "stdin",
     "output_type": "stream",
     "text": [
      "Name of the student Vraj\n",
      "enter the marks of maths 82\n",
      "enter the marks of science 79\n",
      "enter the marks of social science 73\n"
     ]
    },
    {
     "name": "stdout",
     "output_type": "stream",
     "text": [
      "\n",
      "contact details of the school\n",
      "Delhi public school\n",
      "Bangalore Karnataka\n",
      "7825821141\n",
      "dps.contact@gmail.com\n"
     ]
    }
   ],
   "source": [
    "for i in range(1):\n",
    "    a = input(\"Name of the student\")\n",
    "    b = int(input(\"enter the marks of maths\"))\n",
    "    c = int(input(\"enter the marks of science\"))\n",
    "    d = int(input(\"enter the marks of social science\"))\n",
    "    print()\n",
    "    contact() "
   ]
  },
  {
   "cell_type": "markdown",
   "id": "189ff37d-6371-441b-9c8b-e791a45ee383",
   "metadata": {},
   "source": [
    "### Arguments"
   ]
  },
  {
   "cell_type": "code",
   "execution_count": 8,
   "id": "115409d4-6c23-4764-8566-92755bf7d07f",
   "metadata": {},
   "outputs": [],
   "source": [
    "def my_function(fname):\n",
    "    print(fname + \"shah\")"
   ]
  },
  {
   "cell_type": "code",
   "execution_count": 9,
   "id": "ddb0d276-63d5-42ec-97b1-63aa39773d12",
   "metadata": {},
   "outputs": [
    {
     "name": "stdout",
     "output_type": "stream",
     "text": [
      "vrajshah\n"
     ]
    }
   ],
   "source": [
    "my_function(\"vraj\")"
   ]
  },
  {
   "cell_type": "code",
   "execution_count": 10,
   "id": "86329f42-eaf8-4e22-a707-618b1bd0fd02",
   "metadata": {},
   "outputs": [],
   "source": [
    "def my_function(fname, lname):\n",
    "    print(fname + \" \" + lname)"
   ]
  },
  {
   "cell_type": "code",
   "execution_count": 11,
   "id": "be93f6fc-bcce-4c56-b9ad-fcbf69908350",
   "metadata": {},
   "outputs": [
    {
     "name": "stdout",
     "output_type": "stream",
     "text": [
      "vraj shah\n"
     ]
    }
   ],
   "source": [
    "my_function(\"vraj\", \"shah\")"
   ]
  },
  {
   "cell_type": "markdown",
   "id": "1e65c528-6563-4702-96ab-062f514db71a",
   "metadata": {},
   "source": [
    "### Write a program to calculate the electricity bill\n",
    "\n",
    "##### if 500 unit used - Rs 5 for each unit\n",
    "##### if 700 unit used - Rs 10 for each unit\n",
    "##### if 1000 unit used - Rs 15 for each unit\n",
    "##### if more than 1000 unit used - Pay 20 Rs for each unit"
   ]
  },
  {
   "cell_type": "code",
   "execution_count": 25,
   "id": "8aeed165-2111-4a8b-b09c-0edb3321143c",
   "metadata": {},
   "outputs": [],
   "source": [
    "def electricity_bill(n):\n",
    "    if n<=500:\n",
    "        print(\"your bill in Rs\", n*5)\n",
    "    elif n>500 and n<=700:\n",
    "        print(\"your bill is Rs\", n*10)\n",
    "    elif n>700 and n<=1000:\n",
    "        print(\"your bill is Rs\", n*15)\n",
    "    elif n>1000:\n",
    "        print(\"your bill is Rs\", n*20)"
   ]
  },
  {
   "cell_type": "code",
   "execution_count": 26,
   "id": "a30f06bb-7805-4502-a92f-3f2f1d851610",
   "metadata": {},
   "outputs": [],
   "source": [
    "def instructions():\n",
    "    print(\"last date of payinf the bill is 20 April\")\n",
    "    print(\"after 20 April you need to pay 1000 Rs as a fine\")\n",
    "    print(\"Electricity office New Delhi\")"
   ]
  },
  {
   "cell_type": "code",
   "execution_count": null,
   "id": "58ca7097-2345-49c5-ae04-757eb47fa59c",
   "metadata": {},
   "outputs": [
    {
     "name": "stdin",
     "output_type": "stream",
     "text": [
      "Enter the name of a customer Vraj\n",
      "Enter the unit of electricity you have used 480\n"
     ]
    },
    {
     "name": "stdout",
     "output_type": "stream",
     "text": [
      "your bill in Rs 2400\n",
      "\n",
      "last date of payinf the bill is 20 April\n",
      "after 20 April you need to pay 1000 Rs as a fine\n",
      "Electricity office New Delhi\n"
     ]
    },
    {
     "name": "stdin",
     "output_type": "stream",
     "text": [
      "Enter the name of a customer Suresh\n"
     ]
    }
   ],
   "source": [
    "for i in range(2):\n",
    "    a = input(\"Enter the name of a customer\")\n",
    "    n = int(input(\"Enter the unit of electricity you have used\"))\n",
    "    electricity_bill(n)\n",
    "    print()\n",
    "    instructions()"
   ]
  },
  {
   "cell_type": "code",
   "execution_count": null,
   "id": "70c1692f-193f-4f8c-82ee-dec3450e956d",
   "metadata": {},
   "outputs": [],
   "source": []
  }
 ],
 "metadata": {
  "kernelspec": {
   "display_name": "Python 3 (ipykernel)",
   "language": "python",
   "name": "python3"
  },
  "language_info": {
   "codemirror_mode": {
    "name": "ipython",
    "version": 3
   },
   "file_extension": ".py",
   "mimetype": "text/x-python",
   "name": "python",
   "nbconvert_exporter": "python",
   "pygments_lexer": "ipython3",
   "version": "3.12.7"
  }
 },
 "nbformat": 4,
 "nbformat_minor": 5
}
