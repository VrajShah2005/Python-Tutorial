{
 "cells": [
  {
   "cell_type": "markdown",
   "id": "2c5dc950-01ff-4ef0-ad60-482d7e871a1a",
   "metadata": {},
   "source": [
    "# Loops"
   ]
  },
  {
   "cell_type": "markdown",
   "id": "210d1b70-c95d-41e1-a377-cfcebc055563",
   "metadata": {},
   "source": [
    "### while loop"
   ]
  },
  {
   "cell_type": "markdown",
   "id": "b00ee54b-a98c-4519-904e-09ea8e24d461",
   "metadata": {},
   "source": [
    "##### program to display numbers from 1 to 5"
   ]
  },
  {
   "cell_type": "code",
   "execution_count": 1,
   "id": "c5069057-5695-40cc-bc13-19099f052489",
   "metadata": {},
   "outputs": [
    {
     "name": "stdout",
     "output_type": "stream",
     "text": [
      "1\n",
      "2\n",
      "3\n",
      "4\n",
      "5\n"
     ]
    }
   ],
   "source": [
    "i = 1\n",
    "n = 5\n",
    "while i <= n:\n",
    "    print(i)\n",
    "    i = i + 1"
   ]
  },
  {
   "cell_type": "markdown",
   "id": "580e090b-07d9-41aa-b09b-4854c04183bd",
   "metadata": {},
   "source": [
    "##### enter the value from a user and make a multiplication table till 10"
   ]
  },
  {
   "cell_type": "code",
   "execution_count": 2,
   "id": "f0a9d243-0159-49be-8eb1-aa4433e777af",
   "metadata": {},
   "outputs": [
    {
     "name": "stdin",
     "output_type": "stream",
     "text": [
      "enter the value 8\n"
     ]
    },
    {
     "name": "stdout",
     "output_type": "stream",
     "text": [
      "8\n",
      "16\n",
      "24\n",
      "32\n",
      "40\n",
      "48\n",
      "56\n",
      "64\n",
      "72\n",
      "80\n",
      "this is the multiplication table\n"
     ]
    }
   ],
   "source": [
    "x = int(input(\"enter the value\"))\n",
    "i = 1\n",
    "while i<=10:\n",
    "    print(x*i)\n",
    "    i = i+1\n",
    "print(\"this is the multiplication table\")"
   ]
  },
  {
   "cell_type": "markdown",
   "id": "82d39478-00a8-4656-bdbe-7f71baf8c5ee",
   "metadata": {},
   "source": [
    "### using else statement in the while loop"
   ]
  },
  {
   "cell_type": "code",
   "execution_count": 5,
   "id": "eeac0bca-f916-4f0c-be35-b927359cbfa3",
   "metadata": {},
   "outputs": [
    {
     "name": "stdout",
     "output_type": "stream",
     "text": [
      "hello students\n",
      "hello students\n",
      "hello students\n",
      "hello students\n",
      "hello students\n",
      "this is the else block\n"
     ]
    }
   ],
   "source": [
    "count = 0\n",
    "while(count<5):\n",
    "    count = count + 1\n",
    "    print(\"hello students\")\n",
    "else: \n",
    "    print(\"this is the else block\")"
   ]
  },
  {
   "cell_type": "markdown",
   "id": "a704ae55-0ad4-4f78-8f9c-d9a6b077952a",
   "metadata": {},
   "source": [
    "### for loop"
   ]
  },
  {
   "cell_type": "code",
   "execution_count": 4,
   "id": "10e901ba-b6dd-4890-919d-734ae2619226",
   "metadata": {},
   "outputs": [
    {
     "name": "stdout",
     "output_type": "stream",
     "text": [
      "apple\n",
      "banana\n",
      "cherry\n"
     ]
    }
   ],
   "source": [
    "fruits = [\"apple\", \"banana\", \"cherry\"]\n",
    "for x in fruits:\n",
    "    print(x)"
   ]
  },
  {
   "cell_type": "markdown",
   "id": "c71cdbc1-800e-4a40-b595-1159cf9254ca",
   "metadata": {},
   "source": [
    "### looping through a string"
   ]
  },
  {
   "cell_type": "code",
   "execution_count": 6,
   "id": "8f1b6d53-e186-4a7a-8dc8-4719abecef58",
   "metadata": {},
   "outputs": [
    {
     "name": "stdout",
     "output_type": "stream",
     "text": [
      "b\n",
      "a\n",
      "n\n",
      "a\n",
      "n\n",
      "a\n"
     ]
    }
   ],
   "source": [
    "for x in \"banana\":\n",
    "    print(x)"
   ]
  },
  {
   "cell_type": "code",
   "execution_count": 7,
   "id": "fcb44d6a-2bd6-424b-8aac-c98735c11431",
   "metadata": {},
   "outputs": [
    {
     "name": "stdout",
     "output_type": "stream",
     "text": [
      "0\n",
      "1\n",
      "2\n",
      "3\n",
      "4\n",
      "5\n",
      "6\n",
      "7\n",
      "8\n",
      "9\n"
     ]
    }
   ],
   "source": [
    "for x in range(10):\n",
    "    print(x)"
   ]
  },
  {
   "cell_type": "code",
   "execution_count": 9,
   "id": "3c3d89ec-c39d-4a8d-99e6-2b48fe1883ba",
   "metadata": {},
   "outputs": [
    {
     "name": "stdout",
     "output_type": "stream",
     "text": [
      "3\n",
      "4\n",
      "5\n",
      "6\n",
      "7\n",
      "8\n",
      "9\n"
     ]
    }
   ],
   "source": [
    "for x in range(3,10):\n",
    "    print(x)"
   ]
  }
 ],
 "metadata": {
  "kernelspec": {
   "display_name": "Python 3 (ipykernel)",
   "language": "python",
   "name": "python3"
  },
  "language_info": {
   "codemirror_mode": {
    "name": "ipython",
    "version": 3
   },
   "file_extension": ".py",
   "mimetype": "text/x-python",
   "name": "python",
   "nbconvert_exporter": "python",
   "pygments_lexer": "ipython3",
   "version": "3.12.7"
  }
 },
 "nbformat": 4,
 "nbformat_minor": 5
}
